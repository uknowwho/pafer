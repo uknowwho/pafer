{
 "cells": [
  {
   "cell_type": "markdown",
   "id": "183b641c-e4d4-4643-a024-6158ba9d19f8",
   "metadata": {
    "tags": []
   },
   "source": [
    "# PAFER implementation\n",
    "This is an implementation of the Privacy Aware Fairness Estimation of Rules (PAFER) method as described in my thesis (proposal). The goal of the method is to predict the Statistical Parity of a decision tree, whilst adhering to some privacy constraint. This specific notebook implements the Gaussian, Laplacian and Exponential differential privacy mechanism, and tests them on the Adult dataset. First, the data is imported and pre-processed, then the decision tree is trained, followed by the implementation of PAFER and some experiments of the different mechanisms. The notebook is developed in Python 3.11 for performance reasons. A ```requirements.txt``` file is available. "
   ]
  },
  {
   "cell_type": "markdown",
   "id": "5a18c6c6-8ec3-4d1b-bc7e-f567868e29e4",
   "metadata": {},
   "source": [
    "## Imports"
   ]
  },
  {
   "cell_type": "code",
   "execution_count": 95,
   "id": "48acffc0-1fbf-48e1-9721-a7bd7b8eb8b5",
   "metadata": {
    "tags": []
   },
   "outputs": [],
   "source": [
    "import itertools\n",
    "from datetime import datetime\n",
    "\n",
    "import numpy as np\n",
    "import pandas as pd\n",
    "import matplotlib.pyplot as plt\n",
    "from sklearn.tree import DecisionTreeClassifier, plot_tree, export_text\n",
    "from sklearn.metrics import confusion_matrix, ConfusionMatrixDisplay, balanced_accuracy_score, roc_auc_score, accuracy_score\n",
    "from sklearn.model_selection import GridSearchCV\n",
    "from scipy.stats import ttest_ind\n",
    "from tqdm import tqdm"
   ]
  },
  {
   "cell_type": "markdown",
   "id": "0610b659-d305-478a-bd5f-e5d7cc8a1ddd",
   "metadata": {},
   "source": [
    "## Data loading and pre-processing"
   ]
  },
  {
   "cell_type": "code",
   "execution_count": 58,
   "id": "c9b1b987-7c23-4ddf-a8a0-5244a6cdbdeb",
   "metadata": {
    "tags": []
   },
   "outputs": [],
   "source": [
    "# The Adult data source: https://archive.ics.uci.edu/ml/datasets/adult\n",
    "adult_train = pd.read_csv(\"adult.data\", sep=',\\s+', engine='python')\n",
    "adult_test = pd.read_csv(\"adult.test\", sep=',\\s+', engine='python')"
   ]
  },
  {
   "cell_type": "code",
   "execution_count": 59,
   "id": "a705cc82-cee2-433e-85b6-fb96d1254866",
   "metadata": {
    "tags": []
   },
   "outputs": [
    {
     "data": {
      "text/html": [
       "<div>\n",
       "<style scoped>\n",
       "    .dataframe tbody tr th:only-of-type {\n",
       "        vertical-align: middle;\n",
       "    }\n",
       "\n",
       "    .dataframe tbody tr th {\n",
       "        vertical-align: top;\n",
       "    }\n",
       "\n",
       "    .dataframe thead th {\n",
       "        text-align: right;\n",
       "    }\n",
       "</style>\n",
       "<table border=\"1\" class=\"dataframe\">\n",
       "  <thead>\n",
       "    <tr style=\"text-align: right;\">\n",
       "      <th></th>\n",
       "      <th>age</th>\n",
       "      <th>workclass</th>\n",
       "      <th>fnlwgt</th>\n",
       "      <th>education</th>\n",
       "      <th>education-num</th>\n",
       "      <th>marital-status</th>\n",
       "      <th>occupation</th>\n",
       "      <th>relationship</th>\n",
       "      <th>race</th>\n",
       "      <th>sex</th>\n",
       "      <th>capital-gain</th>\n",
       "      <th>capital-loss</th>\n",
       "      <th>hours-per-week</th>\n",
       "      <th>native-country</th>\n",
       "      <th>outcome</th>\n",
       "    </tr>\n",
       "  </thead>\n",
       "  <tbody>\n",
       "    <tr>\n",
       "      <th>0</th>\n",
       "      <td>25</td>\n",
       "      <td>Private</td>\n",
       "      <td>226802</td>\n",
       "      <td>11th</td>\n",
       "      <td>7</td>\n",
       "      <td>Never-married</td>\n",
       "      <td>Machine-op-inspct</td>\n",
       "      <td>Own-child</td>\n",
       "      <td>Black</td>\n",
       "      <td>Male</td>\n",
       "      <td>0</td>\n",
       "      <td>0</td>\n",
       "      <td>40</td>\n",
       "      <td>United-States</td>\n",
       "      <td>&lt;=50K.</td>\n",
       "    </tr>\n",
       "    <tr>\n",
       "      <th>1</th>\n",
       "      <td>38</td>\n",
       "      <td>Private</td>\n",
       "      <td>89814</td>\n",
       "      <td>HS-grad</td>\n",
       "      <td>9</td>\n",
       "      <td>Married-civ-spouse</td>\n",
       "      <td>Farming-fishing</td>\n",
       "      <td>Husband</td>\n",
       "      <td>White</td>\n",
       "      <td>Male</td>\n",
       "      <td>0</td>\n",
       "      <td>0</td>\n",
       "      <td>50</td>\n",
       "      <td>United-States</td>\n",
       "      <td>&lt;=50K.</td>\n",
       "    </tr>\n",
       "    <tr>\n",
       "      <th>2</th>\n",
       "      <td>28</td>\n",
       "      <td>Local-gov</td>\n",
       "      <td>336951</td>\n",
       "      <td>Assoc-acdm</td>\n",
       "      <td>12</td>\n",
       "      <td>Married-civ-spouse</td>\n",
       "      <td>Protective-serv</td>\n",
       "      <td>Husband</td>\n",
       "      <td>White</td>\n",
       "      <td>Male</td>\n",
       "      <td>0</td>\n",
       "      <td>0</td>\n",
       "      <td>40</td>\n",
       "      <td>United-States</td>\n",
       "      <td>&gt;50K.</td>\n",
       "    </tr>\n",
       "    <tr>\n",
       "      <th>3</th>\n",
       "      <td>44</td>\n",
       "      <td>Private</td>\n",
       "      <td>160323</td>\n",
       "      <td>Some-college</td>\n",
       "      <td>10</td>\n",
       "      <td>Married-civ-spouse</td>\n",
       "      <td>Machine-op-inspct</td>\n",
       "      <td>Husband</td>\n",
       "      <td>Black</td>\n",
       "      <td>Male</td>\n",
       "      <td>7688</td>\n",
       "      <td>0</td>\n",
       "      <td>40</td>\n",
       "      <td>United-States</td>\n",
       "      <td>&gt;50K.</td>\n",
       "    </tr>\n",
       "    <tr>\n",
       "      <th>4</th>\n",
       "      <td>18</td>\n",
       "      <td>?</td>\n",
       "      <td>103497</td>\n",
       "      <td>Some-college</td>\n",
       "      <td>10</td>\n",
       "      <td>Never-married</td>\n",
       "      <td>?</td>\n",
       "      <td>Own-child</td>\n",
       "      <td>White</td>\n",
       "      <td>Female</td>\n",
       "      <td>0</td>\n",
       "      <td>0</td>\n",
       "      <td>30</td>\n",
       "      <td>United-States</td>\n",
       "      <td>&lt;=50K.</td>\n",
       "    </tr>\n",
       "    <tr>\n",
       "      <th>...</th>\n",
       "      <td>...</td>\n",
       "      <td>...</td>\n",
       "      <td>...</td>\n",
       "      <td>...</td>\n",
       "      <td>...</td>\n",
       "      <td>...</td>\n",
       "      <td>...</td>\n",
       "      <td>...</td>\n",
       "      <td>...</td>\n",
       "      <td>...</td>\n",
       "      <td>...</td>\n",
       "      <td>...</td>\n",
       "      <td>...</td>\n",
       "      <td>...</td>\n",
       "      <td>...</td>\n",
       "    </tr>\n",
       "    <tr>\n",
       "      <th>16276</th>\n",
       "      <td>39</td>\n",
       "      <td>Private</td>\n",
       "      <td>215419</td>\n",
       "      <td>Bachelors</td>\n",
       "      <td>13</td>\n",
       "      <td>Divorced</td>\n",
       "      <td>Prof-specialty</td>\n",
       "      <td>Not-in-family</td>\n",
       "      <td>White</td>\n",
       "      <td>Female</td>\n",
       "      <td>0</td>\n",
       "      <td>0</td>\n",
       "      <td>36</td>\n",
       "      <td>United-States</td>\n",
       "      <td>&lt;=50K.</td>\n",
       "    </tr>\n",
       "    <tr>\n",
       "      <th>16277</th>\n",
       "      <td>64</td>\n",
       "      <td>?</td>\n",
       "      <td>321403</td>\n",
       "      <td>HS-grad</td>\n",
       "      <td>9</td>\n",
       "      <td>Widowed</td>\n",
       "      <td>?</td>\n",
       "      <td>Other-relative</td>\n",
       "      <td>Black</td>\n",
       "      <td>Male</td>\n",
       "      <td>0</td>\n",
       "      <td>0</td>\n",
       "      <td>40</td>\n",
       "      <td>United-States</td>\n",
       "      <td>&lt;=50K.</td>\n",
       "    </tr>\n",
       "    <tr>\n",
       "      <th>16278</th>\n",
       "      <td>38</td>\n",
       "      <td>Private</td>\n",
       "      <td>374983</td>\n",
       "      <td>Bachelors</td>\n",
       "      <td>13</td>\n",
       "      <td>Married-civ-spouse</td>\n",
       "      <td>Prof-specialty</td>\n",
       "      <td>Husband</td>\n",
       "      <td>White</td>\n",
       "      <td>Male</td>\n",
       "      <td>0</td>\n",
       "      <td>0</td>\n",
       "      <td>50</td>\n",
       "      <td>United-States</td>\n",
       "      <td>&lt;=50K.</td>\n",
       "    </tr>\n",
       "    <tr>\n",
       "      <th>16279</th>\n",
       "      <td>44</td>\n",
       "      <td>Private</td>\n",
       "      <td>83891</td>\n",
       "      <td>Bachelors</td>\n",
       "      <td>13</td>\n",
       "      <td>Divorced</td>\n",
       "      <td>Adm-clerical</td>\n",
       "      <td>Own-child</td>\n",
       "      <td>Asian-Pac-Islander</td>\n",
       "      <td>Male</td>\n",
       "      <td>5455</td>\n",
       "      <td>0</td>\n",
       "      <td>40</td>\n",
       "      <td>United-States</td>\n",
       "      <td>&lt;=50K.</td>\n",
       "    </tr>\n",
       "    <tr>\n",
       "      <th>16280</th>\n",
       "      <td>35</td>\n",
       "      <td>Self-emp-inc</td>\n",
       "      <td>182148</td>\n",
       "      <td>Bachelors</td>\n",
       "      <td>13</td>\n",
       "      <td>Married-civ-spouse</td>\n",
       "      <td>Exec-managerial</td>\n",
       "      <td>Husband</td>\n",
       "      <td>White</td>\n",
       "      <td>Male</td>\n",
       "      <td>0</td>\n",
       "      <td>0</td>\n",
       "      <td>60</td>\n",
       "      <td>United-States</td>\n",
       "      <td>&gt;50K.</td>\n",
       "    </tr>\n",
       "  </tbody>\n",
       "</table>\n",
       "<p>16281 rows × 15 columns</p>\n",
       "</div>"
      ],
      "text/plain": [
       "       age     workclass  fnlwgt     education  education-num  \\\n",
       "0       25       Private  226802          11th              7   \n",
       "1       38       Private   89814       HS-grad              9   \n",
       "2       28     Local-gov  336951    Assoc-acdm             12   \n",
       "3       44       Private  160323  Some-college             10   \n",
       "4       18             ?  103497  Some-college             10   \n",
       "...    ...           ...     ...           ...            ...   \n",
       "16276   39       Private  215419     Bachelors             13   \n",
       "16277   64             ?  321403       HS-grad              9   \n",
       "16278   38       Private  374983     Bachelors             13   \n",
       "16279   44       Private   83891     Bachelors             13   \n",
       "16280   35  Self-emp-inc  182148     Bachelors             13   \n",
       "\n",
       "           marital-status         occupation    relationship  \\\n",
       "0           Never-married  Machine-op-inspct       Own-child   \n",
       "1      Married-civ-spouse    Farming-fishing         Husband   \n",
       "2      Married-civ-spouse    Protective-serv         Husband   \n",
       "3      Married-civ-spouse  Machine-op-inspct         Husband   \n",
       "4           Never-married                  ?       Own-child   \n",
       "...                   ...                ...             ...   \n",
       "16276            Divorced     Prof-specialty   Not-in-family   \n",
       "16277             Widowed                  ?  Other-relative   \n",
       "16278  Married-civ-spouse     Prof-specialty         Husband   \n",
       "16279            Divorced       Adm-clerical       Own-child   \n",
       "16280  Married-civ-spouse    Exec-managerial         Husband   \n",
       "\n",
       "                     race     sex  capital-gain  capital-loss  hours-per-week  \\\n",
       "0                   Black    Male             0             0              40   \n",
       "1                   White    Male             0             0              50   \n",
       "2                   White    Male             0             0              40   \n",
       "3                   Black    Male          7688             0              40   \n",
       "4                   White  Female             0             0              30   \n",
       "...                   ...     ...           ...           ...             ...   \n",
       "16276               White  Female             0             0              36   \n",
       "16277               Black    Male             0             0              40   \n",
       "16278               White    Male             0             0              50   \n",
       "16279  Asian-Pac-Islander    Male          5455             0              40   \n",
       "16280               White    Male             0             0              60   \n",
       "\n",
       "      native-country outcome  \n",
       "0      United-States  <=50K.  \n",
       "1      United-States  <=50K.  \n",
       "2      United-States   >50K.  \n",
       "3      United-States   >50K.  \n",
       "4      United-States  <=50K.  \n",
       "...              ...     ...  \n",
       "16276  United-States  <=50K.  \n",
       "16277  United-States  <=50K.  \n",
       "16278  United-States  <=50K.  \n",
       "16279  United-States  <=50K.  \n",
       "16280  United-States   >50K.  \n",
       "\n",
       "[16281 rows x 15 columns]"
      ]
     },
     "execution_count": 59,
     "metadata": {},
     "output_type": "execute_result"
    }
   ],
   "source": [
    "adult_test"
   ]
  },
  {
   "cell_type": "code",
   "execution_count": 60,
   "id": "fdfa66dc-f5e4-4e9f-8736-a4ddecd7a7f5",
   "metadata": {
    "tags": []
   },
   "outputs": [],
   "source": [
    "# drop incomplete instances, rows that contain ? values\n",
    "adult_test = adult_test[(adult_test != '?').all(1)]\n",
    "adult_train = adult_train[(adult_train != '?').all(1)]\n",
    "\n",
    "# drop fnlwgt column, which is uninformational and might cause overfitting\n",
    "adult_test = adult_test.drop(columns=[\"fnlwgt\"])\n",
    "adult_train = adult_train.drop(columns=[\"fnlwgt\"])"
   ]
  },
  {
   "cell_type": "code",
   "execution_count": 61,
   "id": "34e5f6b6-bc4d-44ed-9e4a-1ae365d3a71b",
   "metadata": {
    "tags": []
   },
   "outputs": [],
   "source": [
    "# separate labels\n",
    "adult_test_y = adult_test['outcome']\n",
    "adult_test_X = adult_test.loc[:, adult_test.columns != 'outcome']\n",
    "adult_train_y = adult_train['outcome']\n",
    "adult_train_X = adult_train.loc[:, adult_train.columns != 'outcome']"
   ]
  },
  {
   "cell_type": "code",
   "execution_count": 62,
   "id": "6d779c5c-7446-40db-a847-6f50bbcfaa6f",
   "metadata": {
    "tags": []
   },
   "outputs": [],
   "source": [
    "# transform labels to 0 and 1, above 50k is favorable outcome\n",
    "adult_test_y = adult_test_y.map({'<=50K.': 0, '>50K.': 1})\n",
    "adult_train_y = adult_train_y.map({'<=50K': 0, '>50K': 1})"
   ]
  },
  {
   "cell_type": "code",
   "execution_count": 63,
   "id": "f585010e-1cf2-444e-a167-c79d09d7e20b",
   "metadata": {
    "tags": []
   },
   "outputs": [],
   "source": [
    "# remove race and sex from model data\n",
    "adult_train_sex = adult_train_X[\"sex\"]\n",
    "adult_test_sex = adult_test_X[\"sex\"]\n",
    "adult_train_race = adult_train_X[\"race\"]\n",
    "adult_test_race = adult_test_X[\"race\"]\n",
    "adult_train_nc = adult_train_X[\"native-country\"]\n",
    "adult_test_nc = adult_test_X[\"native-country\"]\n",
    "adult_train_X = adult_train_X.drop(columns=[\"race\", \"sex\", \"native-country\"])\n",
    "adult_test_X = adult_test_X.drop(columns=[\"race\", \"sex\", \"native-country\"])"
   ]
  },
  {
   "cell_type": "code",
   "execution_count": 64,
   "id": "5dd952b5-a363-46dd-85a8-69db7d7cf4cf",
   "metadata": {
    "tags": []
   },
   "outputs": [
    {
     "data": {
      "text/plain": [
       "White        25933\n",
       "Non_White     4229\n",
       "Name: race, dtype: int64"
      ]
     },
     "execution_count": 64,
     "metadata": {},
     "output_type": "execute_result"
    }
   ],
   "source": [
    "# convert race data to binary white - non-white\n",
    "race_map_dict = {\"White\": \"White\", \"Black\": \"Non_White\", \"Asian-Pac-Islander\": \"Non_White\", \"Other\": \"Non_White\", \"Amer-Indian-Eskimo\": \"Non_White\"}\n",
    "adult_train_race = adult_train_race.map(race_map_dict)\n",
    "adult_test_race = adult_test_race.map(race_map_dict)\n",
    "adult_train_race.value_counts()"
   ]
  },
  {
   "cell_type": "code",
   "execution_count": 65,
   "id": "0c6ba54a-763f-45b2-ba27-371cf43e0108",
   "metadata": {},
   "outputs": [
    {
     "data": {
      "text/plain": [
       "Male-White          18038\n",
       "Female-White         7895\n",
       "Male-Non_White       2342\n",
       "Female-Non_White     1887\n",
       "dtype: int64"
      ]
     },
     "execution_count": 65,
     "metadata": {},
     "output_type": "execute_result"
    }
   ],
   "source": [
    "# convert the two sensitive attributes into a dataframe and then into a series\n",
    "adult_train_sexrace = pd.concat([adult_train_sex, adult_train_race], axis=1)\n",
    "adult_train_sex_race = adult_train_sexrace[['sex', 'race']].agg('-'.join, axis=1)\n",
    "adult_train_sex_race.value_counts()"
   ]
  },
  {
   "cell_type": "code",
   "execution_count": 66,
   "id": "b131d54c-0baf-45a5-854e-bbdfb6cc527b",
   "metadata": {
    "tags": []
   },
   "outputs": [],
   "source": [
    "# convert both datasets to one-hot encoding\n",
    "adult_train_cat_X = pd.get_dummies(adult_train_X)\n",
    "adult_test_cat_X = pd.get_dummies(adult_test_X)"
   ]
  },
  {
   "cell_type": "markdown",
   "id": "bda1bb1a-76b2-474c-b993-314bf06bdfc6",
   "metadata": {},
   "source": [
    "## Tree construction and evaluation "
   ]
  },
  {
   "cell_type": "code",
   "execution_count": 11,
   "id": "0d8be802-6285-431b-bbbf-969619818af1",
   "metadata": {
    "tags": []
   },
   "outputs": [
    {
     "name": "stdout",
     "output_type": "stream",
     "text": [
      "Fitting 3 folds for each of 90 candidates, totalling 270 fits\n"
     ]
    },
    {
     "data": {
      "text/html": [
       "<style>#sk-container-id-1 {color: black;background-color: white;}#sk-container-id-1 pre{padding: 0;}#sk-container-id-1 div.sk-toggleable {background-color: white;}#sk-container-id-1 label.sk-toggleable__label {cursor: pointer;display: block;width: 100%;margin-bottom: 0;padding: 0.3em;box-sizing: border-box;text-align: center;}#sk-container-id-1 label.sk-toggleable__label-arrow:before {content: \"▸\";float: left;margin-right: 0.25em;color: #696969;}#sk-container-id-1 label.sk-toggleable__label-arrow:hover:before {color: black;}#sk-container-id-1 div.sk-estimator:hover label.sk-toggleable__label-arrow:before {color: black;}#sk-container-id-1 div.sk-toggleable__content {max-height: 0;max-width: 0;overflow: hidden;text-align: left;background-color: #f0f8ff;}#sk-container-id-1 div.sk-toggleable__content pre {margin: 0.2em;color: black;border-radius: 0.25em;background-color: #f0f8ff;}#sk-container-id-1 input.sk-toggleable__control:checked~div.sk-toggleable__content {max-height: 200px;max-width: 100%;overflow: auto;}#sk-container-id-1 input.sk-toggleable__control:checked~label.sk-toggleable__label-arrow:before {content: \"▾\";}#sk-container-id-1 div.sk-estimator input.sk-toggleable__control:checked~label.sk-toggleable__label {background-color: #d4ebff;}#sk-container-id-1 div.sk-label input.sk-toggleable__control:checked~label.sk-toggleable__label {background-color: #d4ebff;}#sk-container-id-1 input.sk-hidden--visually {border: 0;clip: rect(1px 1px 1px 1px);clip: rect(1px, 1px, 1px, 1px);height: 1px;margin: -1px;overflow: hidden;padding: 0;position: absolute;width: 1px;}#sk-container-id-1 div.sk-estimator {font-family: monospace;background-color: #f0f8ff;border: 1px dotted black;border-radius: 0.25em;box-sizing: border-box;margin-bottom: 0.5em;}#sk-container-id-1 div.sk-estimator:hover {background-color: #d4ebff;}#sk-container-id-1 div.sk-parallel-item::after {content: \"\";width: 100%;border-bottom: 1px solid gray;flex-grow: 1;}#sk-container-id-1 div.sk-label:hover label.sk-toggleable__label {background-color: #d4ebff;}#sk-container-id-1 div.sk-serial::before {content: \"\";position: absolute;border-left: 1px solid gray;box-sizing: border-box;top: 0;bottom: 0;left: 50%;z-index: 0;}#sk-container-id-1 div.sk-serial {display: flex;flex-direction: column;align-items: center;background-color: white;padding-right: 0.2em;padding-left: 0.2em;position: relative;}#sk-container-id-1 div.sk-item {position: relative;z-index: 1;}#sk-container-id-1 div.sk-parallel {display: flex;align-items: stretch;justify-content: center;background-color: white;position: relative;}#sk-container-id-1 div.sk-item::before, #sk-container-id-1 div.sk-parallel-item::before {content: \"\";position: absolute;border-left: 1px solid gray;box-sizing: border-box;top: 0;bottom: 0;left: 50%;z-index: -1;}#sk-container-id-1 div.sk-parallel-item {display: flex;flex-direction: column;z-index: 1;position: relative;background-color: white;}#sk-container-id-1 div.sk-parallel-item:first-child::after {align-self: flex-end;width: 50%;}#sk-container-id-1 div.sk-parallel-item:last-child::after {align-self: flex-start;width: 50%;}#sk-container-id-1 div.sk-parallel-item:only-child::after {width: 0;}#sk-container-id-1 div.sk-dashed-wrapped {border: 1px dashed gray;margin: 0 0.4em 0.5em 0.4em;box-sizing: border-box;padding-bottom: 0.4em;background-color: white;}#sk-container-id-1 div.sk-label label {font-family: monospace;font-weight: bold;display: inline-block;line-height: 1.2em;}#sk-container-id-1 div.sk-label-container {text-align: center;}#sk-container-id-1 div.sk-container {/* jupyter's `normalize.less` sets `[hidden] { display: none; }` but bootstrap.min.css set `[hidden] { display: none !important; }` so we also need the `!important` here to be able to override the default hidden behavior on the sphinx rendered scikit-learn.org. See: https://github.com/scikit-learn/scikit-learn/issues/21755 */display: inline-block !important;position: relative;}#sk-container-id-1 div.sk-text-repr-fallback {display: none;}</style><div id=\"sk-container-id-1\" class=\"sk-top-container\"><div class=\"sk-text-repr-fallback\"><pre>DecisionTreeClassifier(criterion=&#x27;entropy&#x27;, max_depth=3, max_leaf_nodes=5,\n",
       "                       random_state=42)</pre><b>In a Jupyter environment, please rerun this cell to show the HTML representation or trust the notebook. <br />On GitHub, the HTML representation is unable to render, please try loading this page with nbviewer.org.</b></div><div class=\"sk-container\" hidden><div class=\"sk-item\"><div class=\"sk-estimator sk-toggleable\"><input class=\"sk-toggleable__control sk-hidden--visually\" id=\"sk-estimator-id-1\" type=\"checkbox\" checked><label for=\"sk-estimator-id-1\" class=\"sk-toggleable__label sk-toggleable__label-arrow\">DecisionTreeClassifier</label><div class=\"sk-toggleable__content\"><pre>DecisionTreeClassifier(criterion=&#x27;entropy&#x27;, max_depth=3, max_leaf_nodes=5,\n",
       "                       random_state=42)</pre></div></div></div></div></div>"
      ],
      "text/plain": [
       "DecisionTreeClassifier(criterion='entropy', max_depth=3, max_leaf_nodes=5,\n",
       "                       random_state=42)"
      ]
     },
     "execution_count": 11,
     "metadata": {},
     "output_type": "execute_result"
    }
   ],
   "source": [
    "# construct decision tree\n",
    "tree = DecisionTreeClassifier(random_state=42)\n",
    "\n",
    "parameter_grid={\"criterion\":[\"entropy\"], \"max_depth\":[2, 3, 4], \n",
    "                \"max_features\":[\"sqrt\", None, \"log2\"], \n",
    "                \"max_leaf_nodes\":[3, 4, 5, 6, 7, 8, 9, 10, 11, 12]}\n",
    "tree_cv = GridSearchCV(tree, param_grid=parameter_grid, scoring='balanced_accuracy', n_jobs=2, cv=3, verbose=2)\n",
    "tree_cv.fit(adult_train_cat_X, adult_train_y)\n",
    "best_tree = tree_cv.best_estimator_\n",
    "best_tree"
   ]
  },
  {
   "cell_type": "code",
   "execution_count": 12,
   "id": "3b456301-f722-42b1-9653-c54fbfda211c",
   "metadata": {
    "tags": []
   },
   "outputs": [
    {
     "data": {
      "text/plain": [
       "<sklearn.metrics._plot.confusion_matrix.ConfusionMatrixDisplay at 0x1331d3f90>"
      ]
     },
     "execution_count": 12,
     "metadata": {},
     "output_type": "execute_result"
    },
    {
     "data": {
      "image/png": "[encoded data removed]",
      "text/plain": [
       "<Figure size 640x480 with 2 Axes>"
      ]
     },
     "metadata": {},
     "output_type": "display_data"
    }
   ],
   "source": [
    "# confusion matrix / performance on testset\n",
    "y_pred = best_tree.predict(adult_test_cat_X)\n",
    "cm = confusion_matrix(adult_test_y, y_pred, labels=best_tree.classes_)\n",
    "disp = ConfusionMatrixDisplay(confusion_matrix=cm, display_labels=best_tree.classes_)\n",
    "disp.plot()"
   ]
  },
  {
   "cell_type": "code",
   "execution_count": 13,
   "id": "75f115b0-b9ec-4687-b8a6-c58b28dac34b",
   "metadata": {
    "tags": []
   },
   "outputs": [
    {
     "name": "stdout",
     "output_type": "stream",
     "text": [
      "Balanced accuracy on test set: 0.7265992577084126\n",
      "ROC-AUC score on test set: 0.7265992577084127\n",
      "Accuracy score: 0.8392430278884462\n"
     ]
    }
   ],
   "source": [
    "print(f\"Balanced accuracy on test set: {balanced_accuracy_score(adult_test_y, y_pred)}\")\n",
    "print(f\"ROC-AUC score on test set: {roc_auc_score(adult_test_y, y_pred)}\")\n",
    "print(f\"Accuracy score: {accuracy_score(adult_test_y, y_pred)}\")"
   ]
  },
  {
   "cell_type": "code",
   "execution_count": 14,
   "id": "131be8f5-5d6b-44e9-a6e5-0190e42f3c26",
   "metadata": {
    "tags": []
   },
   "outputs": [
    {
     "name": "stdout",
     "output_type": "stream",
     "text": [
      "|--- marital-status_Married-civ-spouse <= 0.50\n",
      "|   |--- capital-gain <= 7073.50\n",
      "|   |   |--- class: 0\n",
      "|   |--- capital-gain >  7073.50\n",
      "|   |   |--- class: 1\n",
      "|--- marital-status_Married-civ-spouse >  0.50\n",
      "|   |--- education-num <= 12.50\n",
      "|   |   |--- capital-gain <= 5095.50\n",
      "|   |   |   |--- class: 0\n",
      "|   |   |--- capital-gain >  5095.50\n",
      "|   |   |   |--- class: 1\n",
      "|   |--- education-num >  12.50\n",
      "|   |   |--- class: 1\n",
      "\n"
     ]
    }
   ],
   "source": [
    "column_names = [name for name in adult_train_cat_X.columns]\n",
    "print(export_text(best_tree, feature_names=column_names))"
   ]
  },
  {
   "cell_type": "code",
   "execution_count": 15,
   "id": "aea210a2-1a78-4f78-bdba-1c4340057189",
   "metadata": {
    "tags": []
   },
   "outputs": [
    {
     "data": {
      "image/png": "[encoded data removed]",
      "text/plain": [
       "<Figure size 640x480 with 1 Axes>"
      ]
     },
     "metadata": {},
     "output_type": "display_data"
    }
   ],
   "source": [
    "plot_tree(best_tree, feature_names=adult_train_cat_X.columns, filled=True)\n",
    "plt.savefig(\"adulttree.png\", dpi=800)\n",
    "plt.show()"
   ]
  },
  {
   "cell_type": "markdown",
   "id": "2b0ba8b9-8cc0-42fc-93be-8ada314a2590",
   "metadata": {
    "tags": []
   },
   "source": [
    "## Rule extraction"
   ]
  },
  {
   "cell_type": "code",
   "execution_count": 98,
   "id": "e97be4fb-6ae8-4e72-8271-6d6b4497c636",
   "metadata": {
    "tags": []
   },
   "outputs": [],
   "source": [
    "# taken from: https://stackoverflow.com/questions/56334210/how-to-extract-sklearn-decision-tree-rules-to-pandas-boolean-conditions\n",
    "n_nodes = best_tree.tree_.node_count\n",
    "children_left = best_tree.tree_.children_left\n",
    "children_right = best_tree.tree_.children_right\n",
    "feature = best_tree.tree_.feature\n",
    "threshold = best_tree.tree_.threshold\n",
    "\n",
    "def find_path(node_numb, path, x):\n",
    "    path.append(node_numb)\n",
    "    if node_numb == x:\n",
    "        return True\n",
    "    left = False\n",
    "    right = False\n",
    "    if (children_left[node_numb] !=-1):\n",
    "        left = find_path(children_left[node_numb], path, x)\n",
    "    if (children_right[node_numb] !=-1):\n",
    "        right = find_path(children_right[node_numb], path, x)\n",
    "    if left or right :\n",
    "        return True\n",
    "    path.remove(node_numb)\n",
    "    return False\n",
    "\n",
    "\n",
    "def get_rule(df_name, path, column_names):\n",
    "    mask = '('\n",
    "    for index, node in enumerate(path):\n",
    "        # check if we are not in the leaf\n",
    "        if index!=len(path)-1:\n",
    "            # under or over the threshold?\n",
    "            if (children_left[node] == path[index+1]):\n",
    "                mask += f\"{df_name}['{column_names[feature[node]]}']<= {threshold[node]}\\t \"\n",
    "            else:\n",
    "                mask += f\"{df_name}['{column_names[feature[node]]}']> {threshold[node]} \\t \"\n",
    "                \n",
    "    # insert the & at the right places\n",
    "    mask = mask.replace(\"\\t\", \"&\", mask.count(\"\\t\") - 1)\n",
    "    mask = mask.replace(\"\\t\", \"\")\n",
    "    mask += \")\"\n",
    "    return mask"
   ]
  },
  {
   "cell_type": "code",
   "execution_count": 99,
   "id": "e240e928-214a-4994-9fa4-88f6c53d75c2",
   "metadata": {
    "tags": []
   },
   "outputs": [
    {
     "data": {
      "text/plain": [
       "{4: \"(adult_test_cat_X['marital-status_Married-civ-spouse']> 0.5 & adult_test_cat_X['education-num']> 12.5  )\",\n",
       " 5: \"(adult_test_cat_X['marital-status_Married-civ-spouse']<= 0.5& adult_test_cat_X['capital-gain']<= 7073.5 )\",\n",
       " 6: \"(adult_test_cat_X['marital-status_Married-civ-spouse']<= 0.5& adult_test_cat_X['capital-gain']> 7073.5  )\",\n",
       " 7: \"(adult_test_cat_X['marital-status_Married-civ-spouse']> 0.5 & adult_test_cat_X['education-num']<= 12.5& adult_test_cat_X['capital-gain']<= 5095.5 )\",\n",
       " 8: \"(adult_test_cat_X['marital-status_Married-civ-spouse']> 0.5 & adult_test_cat_X['education-num']<= 12.5& adult_test_cat_X['capital-gain']> 5095.5  )\"}"
      ]
     },
     "execution_count": 99,
     "metadata": {},
     "output_type": "execute_result"
    }
   ],
   "source": [
    "# Leaves\n",
    "leave_id = best_tree.apply(adult_test_cat_X)\n",
    "\n",
    "paths = {}\n",
    "for leaf in np.unique(leave_id):\n",
    "    path_leaf = []\n",
    "    find_path(0, path_leaf, leaf)\n",
    "    paths[leaf] = np.unique(np.sort(path_leaf))\n",
    "\n",
    "rules = {}\n",
    "for key in paths:\n",
    "    rules[key] = get_rule(\"adult_test_cat_X\", paths[key], column_names)\n",
    "    \n",
    "rules"
   ]
  },
  {
   "cell_type": "markdown",
   "id": "e8ce6ecf-f38f-489c-bcda-480c60fa9801",
   "metadata": {},
   "source": [
    "## PAFER (Privacy Aware Fairness Estimation of Rules)"
   ]
  },
  {
   "cell_type": "code",
   "execution_count": 69,
   "id": "94b8eb9b-6622-4a7d-b9db-f9ef3761878c",
   "metadata": {
    "tags": []
   },
   "outputs": [
    {
     "data": {
      "text/plain": [
       "4105"
      ]
     },
     "execution_count": 69,
     "metadata": {},
     "output_type": "execute_result"
    }
   ],
   "source": [
    "def positive_rules(rules):\n",
    "    \"\"\"From the extracted rules, return those that have a favorable classification\n",
    "    \n",
    "    Arg:\n",
    "        rules: dict of which the values are rule strings\n",
    "        \n",
    "    Returns:\n",
    "        A list of all the rules that classify favorably\"\"\"\n",
    "    \n",
    "    # positive rules are those that end in > X\n",
    "    return [rules[rule] for rule in rules if '>' in rules[rule].split('&')[-1]]\n",
    "\n",
    "\n",
    "def oracle(dataset, sens_dataset, rule, s_i, mechanism=None, epsilon=0.05, delta=0.001):\n",
    "    \"\"\"Returns some (differentially privatised) statistics on the sensitive attribute for the specified dataframe and rule\n",
    "    \n",
    "    Args:\n",
    "        df: The DataFrame that the developers own, which does not contain sensitive attributes.\n",
    "            Used to calculate total quantities in (root) nodes.\n",
    "        sens_dataset: A Series that the developers do not own, which contains the sensitive attributes. \n",
    "            Combined sensitive attributes should be encoded as a Series, e.g. Black-Female\n",
    "        rule: The rule, as a string, for which the to estimate the sensitive attribute.\n",
    "        s_i: The sensitive attribute, its name comes from the ith element in the set S of sensitive attributes.\n",
    "            s_i should be in sens_dataset and should thus be a string. \n",
    "        mechanism: The privacy mechanism used on the returned counts. Can be one of \"gaussian\", \"laplacian\", \"exponential\", None. \n",
    "        epsilon: The privacy budget. Should be larger than 0.\n",
    "        delta: The privacy margin. Ignored when mechanism is either laplacian or gaussian. Should be in (0, 1]. \n",
    "        \n",
    "    Returns:\n",
    "        The number of times s_i occurs in sens_dataset, privatised via the mechanism. \n",
    "        \"\"\"\n",
    "        \n",
    "    # check epsilon and delta parameters\n",
    "    if epsilon <= 0 or (mechanism == \"gaussian\" and (delta <= 0 or delta > 1 or epsilon > 1)):\n",
    "        raise ValueError(\"The value of delta should be in (0,1] when using the gaussian mechanism\")\n",
    "    \n",
    "    if not sens_dataset.isin([s_i]).any():\n",
    "        raise KeyError(\"The requested sensitive attribute (s_i) is not in the sensitive dataframe (sens_dataset)\")\n",
    "        \n",
    "    # the answer if no privacy mechanism is applied\n",
    "    no_mechanism = sens_dataset.loc[dataset[pd.eval(rule)].index].value_counts(sort=False)[s_i]\n",
    "    \n",
    "    if mechanism == \"laplacian\":\n",
    "        # this is a histogram query so the l1-sensitivity = 1 as per Dwork & Roth \n",
    "        sensitivity = 1\n",
    "        return no_mechanism + np.random.laplace(loc=0, scale=sensitivity / epsilon)\n",
    "    \n",
    "    elif mechanism == \"gaussian\":\n",
    "        # this is a histogram query so the l2-sensitivity = 2 as per Dwork & Roth\n",
    "        sensitivity = 2\n",
    "        return no_mechanism + np.random.normal(loc=0, scale=2 * sensitivity**2 * np.log(1.25 / delta) / epsilon**2)\n",
    "    \n",
    "    elif mechanism == \"exponential\":\n",
    "        # this query can only change by 1 if an instance is omitted so l1-sensitivity = 1\n",
    "        sensitivity = 1\n",
    "        \n",
    "        # np.arange is [start, stop) so + 1 for entire possible range\n",
    "        possible_values = np.arange(0, sens_dataset.loc[dataset[pd.eval(rule)].index].value_counts().to_numpy().sum() + 1)\n",
    "        \n",
    "        # the utility is higher when the value is closer to the actual value\n",
    "        utility_scores = np.array([no_mechanism - abs(no_mechanism - value) for value in possible_values]) / 100\n",
    "        probabilities = [np.exp(epsilon * score / (2 * sensitivity)) for score in utility_scores]\n",
    "        \n",
    "        # normalize probabilties to sum to 1\n",
    "        probabilities /= np.linalg.norm(probabilities, ord=1)\n",
    "        return np.random.choice(possible_values, p=probabilities)\n",
    "\n",
    "    # if no mechanism is given, return the unprivatised cocunt\n",
    "    return no_mechanism\n",
    "\n",
    "oracle(adult_train_cat_X, adult_train_sex, rules[4], \"Male\", \"exponential\", epsilon=1, delta=0.1)"
   ]
  },
  {
   "cell_type": "code",
   "execution_count": 78,
   "id": "2a58d78a-c5e9-4876-b92c-77c357c06a99",
   "metadata": {
    "tags": []
   },
   "outputs": [],
   "source": [
    "def statistical_parity(y_pred, sens_dataset):\n",
    "    \"\"\"Calculates Statistical Parity Ratio using the predictions and the actual sensitive feature values\n",
    "    \n",
    "    Args:\n",
    "        y_pred: The predictions, should be of same size as sens_dataset.\n",
    "        sens_dataset: The Series with the sensitive attributes.\n",
    "        \n",
    "    Returns:\n",
    "        The true statistical parity ratio.\n",
    "        \"\"\"\n",
    "    accept_rates = []\n",
    "    \n",
    "    for sens_attr in sens_dataset.value_counts().keys():\n",
    "        accept_rates.append(np.sum((sens_dataset == sens_attr) & y_pred) / np.sum(sens_dataset == sens_attr))\n",
    "        \n",
    "    return min(accept_rates) / max(accept_rates)\n",
    "\n",
    "\n",
    "def estimate_sp(pos_ruleset, dataset, sens_dataset, S, mechanism, epsilon, delta, histogram=False):\n",
    "    \"\"\"Returns the estimated Statistical Parity of a tree for a privacy mechanism\n",
    "    \n",
    "    Args:\n",
    "        pos_ruleset: A list of rules that classify favorably in the tree. This is the representation of the\n",
    "        (relevant parts of the) tree. \n",
    "        dataset: The DataFrame that the developers own that does not contain sensitive feature values.\n",
    "        sens_dataset: The Series that contains the sensitive features, which the developers do not own.\n",
    "        S: The set/list of sensitive attributes, should all be in the sens_dataset attribute.\n",
    "        mechanism: The mechanism with which to privatise the queries. \n",
    "        epsilon: The privacy budget for the privacy mechanism. Should be larger than 0.\n",
    "        delta: The privacy margin. Ignored when mechanism is either laplacian or gaussian. Should be in (0, 1].\n",
    "        \n",
    "    Returns:\n",
    "        The statistical parity ratio for the specified pos_ruleset. \n",
    "        \"\"\"\n",
    "    \n",
    "    poscounts_per_si = np.zeros(len(S))\n",
    "    \n",
    "    # the base rule is a rule that includes all individuals, everyone is either 0 or older\n",
    "    base_rule = f\"{pos_ruleset[0].split('[')[0]}['age'] >= 0) \"\n",
    "    \n",
    "    if histogram:\n",
    "        total_per_si = [oracle(dataset, sens_dataset, base_rule, s_i, mechanism, 0.5 * epsilon, delta) for s_i in S]\n",
    "            \n",
    "    else:\n",
    "        # we can calculate the last count ourselves so we iterate one less\n",
    "        total_per_si = [oracle(dataset, sens_dataset, base_rule, s_i, mechanism, 0.5 * epsilon, delta) for s_i in S[:-1]]\n",
    "        total_per_si.append(len(sens_dataset) - sum(total_per_si))\n",
    "    \n",
    "    for rule in pos_ruleset:\n",
    "        # for each rule we find the distribution of sensitive attributes\n",
    "        rule_counts = np.zeros(len(S))\n",
    "        rule_total = len(sens_dataset[pd.eval(rule)])\n",
    "        \n",
    "        if histogram:\n",
    "            for i, s_i in enumerate(S):\n",
    "                # because the queries are disjoint, epsilon remains equal across queries\n",
    "                rule_counts[i] += round(oracle(dataset, sens_dataset, rule, s_i, mechanism, 0.5 * epsilon, delta))\n",
    "        \n",
    "        else:\n",
    "        # we can calculate the last count ourselves so we iterate one less\n",
    "            for i, s_i in enumerate(S[:-1]):\n",
    "                # because the queries are disjoint, epsilon remains equal across queries\n",
    "                rule_counts[i] += round(oracle(dataset, sens_dataset, rule, s_i, mechanism, 0.5 * epsilon, delta))\n",
    "            \n",
    "            rule_counts[-1] += rule_total - np.sum(rule_counts[:-1])\n",
    "        \n",
    "        # the distribution for the current rule is added to the total\n",
    "        poscounts_per_si += rule_counts\n",
    "    \n",
    "    # calculate and return sp\n",
    "    return np.min(poscounts_per_si / total_per_si) / np.max(poscounts_per_si / total_per_si)\n"
   ]
  },
  {
   "cell_type": "markdown",
   "id": "5254b52b-a64f-418f-a402-5398f28b502b",
   "metadata": {},
   "source": [
    "## PAFER experiments"
   ]
  },
  {
   "cell_type": "code",
   "execution_count": 88,
   "id": "e75eef37-34bb-4e88-b363-b5f58cdc1ae7",
   "metadata": {},
   "outputs": [
    {
     "name": "stdout",
     "output_type": "stream",
     "text": [
      "[\"(adult_train_cat_X['marital-status_Married-civ-spouse']> 0.5 & adult_train_cat_X['education-num']> 12.5  ) | (adult_train_cat_X['marital-status_Married-civ-spouse']<= 0.5& adult_train_cat_X['capital-gain']> 7073.5  ) | (adult_train_cat_X['marital-status_Married-civ-spouse']> 0.5 & adult_train_cat_X['education-num']<= 12.5& adult_train_cat_X['capital-gain']> 5095.5  )\"]\n"
     ]
    },
    {
     "data": {
      "text/plain": [
       "array([[0.00543688],\n",
       "       [0.00390091]])"
      ]
     },
     "execution_count": 88,
     "metadata": {},
     "output_type": "execute_result"
    }
   ],
   "source": [
    "def experiment(ruleset, rule_pred, dataset, sens_dataset, epsilon, \n",
    "               delta=0.0001, mechanisms=[\"exponential\", \"gaussian\", \"laplacian\"], runs=10, histogram=False, combined=False):\n",
    "    \"\"\"Compares average Statistical Parity Error for different mechanisms\n",
    "    \n",
    "    Args:\n",
    "        ruleset: The rules that represent a rule based decision system.\n",
    "        rule_pred: The predictions that the ruleset has made for the dataset.\n",
    "        dataset: The DataFrame that the developers own that does not contain sensitive feature values.\n",
    "        sens_dataset: The Series that contains the sensitive features, which the developers do not own.\n",
    "        epsilon: The privacy budget for the privacy mechanism. Should be larger than 0.\n",
    "        delta: The privacy margin. Ignored when mechanism is either laplacian or gaussian. Should be in (0, 1].\n",
    "        mechanisms: The list of mechanisms you want to compare. \n",
    "            Should be a subset of {\"exponential\", \"gaussian\", \"laplacian\", \"None\"}.\n",
    "        runs: The number of times to perform the experiment, fewer runs will result in less reliable outcomes. \n",
    "        \n",
    "    Returns:\n",
    "        A numpy array that contains the absolute difference between the actual sp and the estimated sp. \n",
    "    \"\"\"\n",
    "    \n",
    "    pos_rules = positive_rules(ruleset)\n",
    "    if combined:\n",
    "        pos_rules = [\" | \".join(rule for rule in pos_rules)]\n",
    "        print(pos_rules)\n",
    "        \n",
    "    actual_sp = statistical_parity(rule_pred, sens_dataset)\n",
    "    errors = np.zeros((runs, len(mechanisms)))\n",
    "    S = sens_dataset.value_counts(sort=False).index\n",
    "    \n",
    "    for row in range(runs):\n",
    "        for col, mechanism in enumerate(mechanisms):\n",
    "            errors[row, col] = abs(estimate_sp(pos_rules, dataset, sens_dataset, S, mechanism, epsilon, delta, histogram=histogram) - actual_sp)\n",
    "            \n",
    "    return errors\n"
   ]
  },
  {
   "cell_type": "code",
   "execution_count": null,
   "id": "29a00e86-b152-4f1e-834f-4e4e5e50b8f4",
   "metadata": {},
   "outputs": [
    {
     "name": "stderr",
     "output_type": "stream",
     "text": [
      " 29%|██▉       | 13/45 [03:04<07:27, 14.00s/it]"
     ]
    }
   ],
   "source": [
    "epsilons = np.linspace(0.01, 1, 45)\n",
    "runs = 5\n",
    "\n",
    "laplace_errs_hist, exp_errs_hist = [], []\n",
    "laplace_uncert_hist, exp_uncert_hist = [], []\n",
    "for epsilon in tqdm(epsilons):\n",
    "    sp_errs = experiment(rules, best_tree.predict(adult_test_cat_X), adult_test_cat_X,\n",
    "                         adult_test_sex, epsilon=epsilon, runs=runs, mechanisms=[\"laplacian\", \"exponential\"], histogram=True)\n",
    "    \n",
    "    avg_errs = np.mean(sp_errs, axis=0)\n",
    "    std_errs = np.std(sp_errs, ddof=1, axis=0)\n",
    "    uncertainty = std_errs / np.sqrt(runs)\n",
    "    \n",
    "    laplace_errs_hist.append(avg_errs[0])\n",
    "    exp_errs_hist.append(avg_errs[1])\n",
    "    laplace_uncert_hist.append(uncertainty[0])\n",
    "    exp_uncert_hist.append(uncertainty[1])\n",
    "    "
   ]
  },
  {
   "cell_type": "code",
   "execution_count": null,
   "id": "64a4761a-7039-4f74-bb87-29a45d414394",
   "metadata": {
    "tags": []
   },
   "outputs": [],
   "source": [
    "laplace_errs_hist = np.array(laplace_errs_hist)\n",
    "exp_errs_hist = np.array(exp_errs_hist)\n",
    "laplace_uncert_hist = np.array(laplace_uncert_hist)\n",
    "exp_uncert_hist = np.array(exp_uncert_hist)\n",
    "\n",
    "plt.plot(epsilons, laplace_errs_hist, label=\"Laplacian\")\n",
    "plt.fill_between(epsilons, laplace_errs_hist + laplace_uncert_hist, laplace_errs_hist - laplace_uncert_hist, alpha=0.2)\n",
    "plt.plot(epsilons, exp_errs_hist, label=\"Exponential\")\n",
    "plt.fill_between(epsilons, exp_errs_hist + exp_uncert_hist, exp_errs_hist - exp_uncert_hist, alpha=0.2)\n",
    "plt.legend()\n",
    "plt.title(\"Comparison of DP mechanisms for different epsilons based on average SP\")\n",
    "plt.ylabel(\"Average SP error\")\n",
    "plt.xlabel(\"Privacy budget $\\epsilon$\")\n",
    "plt.savefig(f\"adult-sex-mechcomp-{datetime.now()}-{runs}\", dpi=800)\n",
    "plt.show()"
   ]
  },
  {
   "cell_type": "code",
   "execution_count": 90,
   "id": "84be3a2d-e81c-4ca0-a43a-0e35ed985ef0",
   "metadata": {
    "tags": []
   },
   "outputs": [
    {
     "name": "stderr",
     "output_type": "stream",
     "text": [
      "  0%|                                       | 0/45 [00:00<?, ?it/s]"
     ]
    },
    {
     "name": "stdout",
     "output_type": "stream",
     "text": [
      "[\"(adult_train_cat_X['marital-status_Married-civ-spouse']> 0.5 & adult_train_cat_X['education-num']> 12.5  ) | (adult_train_cat_X['marital-status_Married-civ-spouse']<= 0.5& adult_train_cat_X['capital-gain']> 7073.5  ) | (adult_train_cat_X['marital-status_Married-civ-spouse']> 0.5 & adult_train_cat_X['education-num']<= 12.5& adult_train_cat_X['capital-gain']> 5095.5  )\"]\n"
     ]
    },
    {
     "name": "stderr",
     "output_type": "stream",
     "text": [
      "  2%|▋                              | 1/45 [00:46<34:12, 46.65s/it]"
     ]
    },
    {
     "name": "stdout",
     "output_type": "stream",
     "text": [
      "[\"(adult_train_cat_X['marital-status_Married-civ-spouse']> 0.5 & adult_train_cat_X['education-num']> 12.5  ) | (adult_train_cat_X['marital-status_Married-civ-spouse']<= 0.5& adult_train_cat_X['capital-gain']> 7073.5  ) | (adult_train_cat_X['marital-status_Married-civ-spouse']> 0.5 & adult_train_cat_X['education-num']<= 12.5& adult_train_cat_X['capital-gain']> 5095.5  )\"]\n"
     ]
    },
    {
     "name": "stderr",
     "output_type": "stream",
     "text": [
      "  4%|█▍                             | 2/45 [01:23<29:22, 40.98s/it]"
     ]
    },
    {
     "name": "stdout",
     "output_type": "stream",
     "text": [
      "[\"(adult_train_cat_X['marital-status_Married-civ-spouse']> 0.5 & adult_train_cat_X['education-num']> 12.5  ) | (adult_train_cat_X['marital-status_Married-civ-spouse']<= 0.5& adult_train_cat_X['capital-gain']> 7073.5  ) | (adult_train_cat_X['marital-status_Married-civ-spouse']> 0.5 & adult_train_cat_X['education-num']<= 12.5& adult_train_cat_X['capital-gain']> 5095.5  )\"]\n"
     ]
    },
    {
     "name": "stderr",
     "output_type": "stream",
     "text": [
      "  7%|██                             | 3/45 [01:50<24:19, 34.75s/it]"
     ]
    },
    {
     "name": "stdout",
     "output_type": "stream",
     "text": [
      "[\"(adult_train_cat_X['marital-status_Married-civ-spouse']> 0.5 & adult_train_cat_X['education-num']> 12.5  ) | (adult_train_cat_X['marital-status_Married-civ-spouse']<= 0.5& adult_train_cat_X['capital-gain']> 7073.5  ) | (adult_train_cat_X['marital-status_Married-civ-spouse']> 0.5 & adult_train_cat_X['education-num']<= 12.5& adult_train_cat_X['capital-gain']> 5095.5  )\"]\n"
     ]
    },
    {
     "name": "stderr",
     "output_type": "stream",
     "text": [
      "  9%|██▊                            | 4/45 [02:17<21:35, 31.61s/it]"
     ]
    },
    {
     "name": "stdout",
     "output_type": "stream",
     "text": [
      "[\"(adult_train_cat_X['marital-status_Married-civ-spouse']> 0.5 & adult_train_cat_X['education-num']> 12.5  ) | (adult_train_cat_X['marital-status_Married-civ-spouse']<= 0.5& adult_train_cat_X['capital-gain']> 7073.5  ) | (adult_train_cat_X['marital-status_Married-civ-spouse']> 0.5 & adult_train_cat_X['education-num']<= 12.5& adult_train_cat_X['capital-gain']> 5095.5  )\"]\n"
     ]
    },
    {
     "name": "stderr",
     "output_type": "stream",
     "text": [
      " 11%|███▍                           | 5/45 [02:44<19:51, 29.78s/it]"
     ]
    },
    {
     "name": "stdout",
     "output_type": "stream",
     "text": [
      "[\"(adult_train_cat_X['marital-status_Married-civ-spouse']> 0.5 & adult_train_cat_X['education-num']> 12.5  ) | (adult_train_cat_X['marital-status_Married-civ-spouse']<= 0.5& adult_train_cat_X['capital-gain']> 7073.5  ) | (adult_train_cat_X['marital-status_Married-civ-spouse']> 0.5 & adult_train_cat_X['education-num']<= 12.5& adult_train_cat_X['capital-gain']> 5095.5  )\"]\n"
     ]
    },
    {
     "name": "stderr",
     "output_type": "stream",
     "text": [
      " 13%|████▏                          | 6/45 [03:10<18:35, 28.59s/it]"
     ]
    },
    {
     "name": "stdout",
     "output_type": "stream",
     "text": [
      "[\"(adult_train_cat_X['marital-status_Married-civ-spouse']> 0.5 & adult_train_cat_X['education-num']> 12.5  ) | (adult_train_cat_X['marital-status_Married-civ-spouse']<= 0.5& adult_train_cat_X['capital-gain']> 7073.5  ) | (adult_train_cat_X['marital-status_Married-civ-spouse']> 0.5 & adult_train_cat_X['education-num']<= 12.5& adult_train_cat_X['capital-gain']> 5095.5  )\"]\n"
     ]
    },
    {
     "name": "stderr",
     "output_type": "stream",
     "text": [
      " 16%|████▊                          | 7/45 [03:37<17:46, 28.06s/it]"
     ]
    },
    {
     "name": "stdout",
     "output_type": "stream",
     "text": [
      "[\"(adult_train_cat_X['marital-status_Married-civ-spouse']> 0.5 & adult_train_cat_X['education-num']> 12.5  ) | (adult_train_cat_X['marital-status_Married-civ-spouse']<= 0.5& adult_train_cat_X['capital-gain']> 7073.5  ) | (adult_train_cat_X['marital-status_Married-civ-spouse']> 0.5 & adult_train_cat_X['education-num']<= 12.5& adult_train_cat_X['capital-gain']> 5095.5  )\"]\n"
     ]
    },
    {
     "name": "stderr",
     "output_type": "stream",
     "text": [
      " 18%|█████▌                         | 8/45 [04:03<16:58, 27.52s/it]"
     ]
    },
    {
     "name": "stdout",
     "output_type": "stream",
     "text": [
      "[\"(adult_train_cat_X['marital-status_Married-civ-spouse']> 0.5 & adult_train_cat_X['education-num']> 12.5  ) | (adult_train_cat_X['marital-status_Married-civ-spouse']<= 0.5& adult_train_cat_X['capital-gain']> 7073.5  ) | (adult_train_cat_X['marital-status_Married-civ-spouse']> 0.5 & adult_train_cat_X['education-num']<= 12.5& adult_train_cat_X['capital-gain']> 5095.5  )\"]\n"
     ]
    },
    {
     "name": "stderr",
     "output_type": "stream",
     "text": [
      " 20%|██████▏                        | 9/45 [04:30<16:15, 27.10s/it]"
     ]
    },
    {
     "name": "stdout",
     "output_type": "stream",
     "text": [
      "[\"(adult_train_cat_X['marital-status_Married-civ-spouse']> 0.5 & adult_train_cat_X['education-num']> 12.5  ) | (adult_train_cat_X['marital-status_Married-civ-spouse']<= 0.5& adult_train_cat_X['capital-gain']> 7073.5  ) | (adult_train_cat_X['marital-status_Married-civ-spouse']> 0.5 & adult_train_cat_X['education-num']<= 12.5& adult_train_cat_X['capital-gain']> 5095.5  )\"]\n"
     ]
    },
    {
     "name": "stderr",
     "output_type": "stream",
     "text": [
      " 22%|██████▋                       | 10/45 [04:56<15:45, 27.01s/it]"
     ]
    },
    {
     "name": "stdout",
     "output_type": "stream",
     "text": [
      "[\"(adult_train_cat_X['marital-status_Married-civ-spouse']> 0.5 & adult_train_cat_X['education-num']> 12.5  ) | (adult_train_cat_X['marital-status_Married-civ-spouse']<= 0.5& adult_train_cat_X['capital-gain']> 7073.5  ) | (adult_train_cat_X['marital-status_Married-civ-spouse']> 0.5 & adult_train_cat_X['education-num']<= 12.5& adult_train_cat_X['capital-gain']> 5095.5  )\"]\n"
     ]
    },
    {
     "name": "stderr",
     "output_type": "stream",
     "text": [
      " 24%|███████▎                      | 11/45 [05:23<15:17, 26.99s/it]"
     ]
    },
    {
     "name": "stdout",
     "output_type": "stream",
     "text": [
      "[\"(adult_train_cat_X['marital-status_Married-civ-spouse']> 0.5 & adult_train_cat_X['education-num']> 12.5  ) | (adult_train_cat_X['marital-status_Married-civ-spouse']<= 0.5& adult_train_cat_X['capital-gain']> 7073.5  ) | (adult_train_cat_X['marital-status_Married-civ-spouse']> 0.5 & adult_train_cat_X['education-num']<= 12.5& adult_train_cat_X['capital-gain']> 5095.5  )\"]\n"
     ]
    },
    {
     "name": "stderr",
     "output_type": "stream",
     "text": [
      " 27%|████████                      | 12/45 [05:56<15:43, 28.58s/it]"
     ]
    },
    {
     "name": "stdout",
     "output_type": "stream",
     "text": [
      "[\"(adult_train_cat_X['marital-status_Married-civ-spouse']> 0.5 & adult_train_cat_X['education-num']> 12.5  ) | (adult_train_cat_X['marital-status_Married-civ-spouse']<= 0.5& adult_train_cat_X['capital-gain']> 7073.5  ) | (adult_train_cat_X['marital-status_Married-civ-spouse']> 0.5 & adult_train_cat_X['education-num']<= 12.5& adult_train_cat_X['capital-gain']> 5095.5  )\"]\n"
     ]
    },
    {
     "name": "stderr",
     "output_type": "stream",
     "text": [
      " 29%|████████▋                     | 13/45 [06:25<15:22, 28.83s/it]"
     ]
    },
    {
     "name": "stdout",
     "output_type": "stream",
     "text": [
      "[\"(adult_train_cat_X['marital-status_Married-civ-spouse']> 0.5 & adult_train_cat_X['education-num']> 12.5  ) | (adult_train_cat_X['marital-status_Married-civ-spouse']<= 0.5& adult_train_cat_X['capital-gain']> 7073.5  ) | (adult_train_cat_X['marital-status_Married-civ-spouse']> 0.5 & adult_train_cat_X['education-num']<= 12.5& adult_train_cat_X['capital-gain']> 5095.5  )\"]\n"
     ]
    },
    {
     "name": "stderr",
     "output_type": "stream",
     "text": [
      " 31%|█████████▎                    | 14/45 [06:55<15:01, 29.09s/it]"
     ]
    },
    {
     "name": "stdout",
     "output_type": "stream",
     "text": [
      "[\"(adult_train_cat_X['marital-status_Married-civ-spouse']> 0.5 & adult_train_cat_X['education-num']> 12.5  ) | (adult_train_cat_X['marital-status_Married-civ-spouse']<= 0.5& adult_train_cat_X['capital-gain']> 7073.5  ) | (adult_train_cat_X['marital-status_Married-civ-spouse']> 0.5 & adult_train_cat_X['education-num']<= 12.5& adult_train_cat_X['capital-gain']> 5095.5  )\"]\n"
     ]
    },
    {
     "name": "stderr",
     "output_type": "stream",
     "text": [
      " 33%|██████████                    | 15/45 [07:33<15:51, 31.73s/it]"
     ]
    },
    {
     "name": "stdout",
     "output_type": "stream",
     "text": [
      "[\"(adult_train_cat_X['marital-status_Married-civ-spouse']> 0.5 & adult_train_cat_X['education-num']> 12.5  ) | (adult_train_cat_X['marital-status_Married-civ-spouse']<= 0.5& adult_train_cat_X['capital-gain']> 7073.5  ) | (adult_train_cat_X['marital-status_Married-civ-spouse']> 0.5 & adult_train_cat_X['education-num']<= 12.5& adult_train_cat_X['capital-gain']> 5095.5  )\"]\n"
     ]
    },
    {
     "name": "stderr",
     "output_type": "stream",
     "text": [
      " 36%|██████████▋                   | 16/45 [08:35<19:49, 41.01s/it]"
     ]
    },
    {
     "name": "stdout",
     "output_type": "stream",
     "text": [
      "[\"(adult_train_cat_X['marital-status_Married-civ-spouse']> 0.5 & adult_train_cat_X['education-num']> 12.5  ) | (adult_train_cat_X['marital-status_Married-civ-spouse']<= 0.5& adult_train_cat_X['capital-gain']> 7073.5  ) | (adult_train_cat_X['marital-status_Married-civ-spouse']> 0.5 & adult_train_cat_X['education-num']<= 12.5& adult_train_cat_X['capital-gain']> 5095.5  )\"]\n"
     ]
    },
    {
     "name": "stderr",
     "output_type": "stream",
     "text": [
      " 38%|███████████▎                  | 17/45 [09:46<23:17, 49.91s/it]"
     ]
    },
    {
     "name": "stdout",
     "output_type": "stream",
     "text": [
      "[\"(adult_train_cat_X['marital-status_Married-civ-spouse']> 0.5 & adult_train_cat_X['education-num']> 12.5  ) | (adult_train_cat_X['marital-status_Married-civ-spouse']<= 0.5& adult_train_cat_X['capital-gain']> 7073.5  ) | (adult_train_cat_X['marital-status_Married-civ-spouse']> 0.5 & adult_train_cat_X['education-num']<= 12.5& adult_train_cat_X['capital-gain']> 5095.5  )\"]\n"
     ]
    },
    {
     "name": "stderr",
     "output_type": "stream",
     "text": [
      " 40%|████████████                  | 18/45 [10:39<22:58, 51.07s/it]"
     ]
    },
    {
     "name": "stdout",
     "output_type": "stream",
     "text": [
      "[\"(adult_train_cat_X['marital-status_Married-civ-spouse']> 0.5 & adult_train_cat_X['education-num']> 12.5  ) | (adult_train_cat_X['marital-status_Married-civ-spouse']<= 0.5& adult_train_cat_X['capital-gain']> 7073.5  ) | (adult_train_cat_X['marital-status_Married-civ-spouse']> 0.5 & adult_train_cat_X['education-num']<= 12.5& adult_train_cat_X['capital-gain']> 5095.5  )\"]\n"
     ]
    },
    {
     "name": "stderr",
     "output_type": "stream",
     "text": [
      " 42%|████████████▋                 | 19/45 [11:34<22:32, 52.03s/it]"
     ]
    },
    {
     "name": "stdout",
     "output_type": "stream",
     "text": [
      "[\"(adult_train_cat_X['marital-status_Married-civ-spouse']> 0.5 & adult_train_cat_X['education-num']> 12.5  ) | (adult_train_cat_X['marital-status_Married-civ-spouse']<= 0.5& adult_train_cat_X['capital-gain']> 7073.5  ) | (adult_train_cat_X['marital-status_Married-civ-spouse']> 0.5 & adult_train_cat_X['education-num']<= 12.5& adult_train_cat_X['capital-gain']> 5095.5  )\"]\n"
     ]
    },
    {
     "name": "stderr",
     "output_type": "stream",
     "text": [
      " 44%|█████████████▎                | 20/45 [12:25<21:34, 51.77s/it]"
     ]
    },
    {
     "name": "stdout",
     "output_type": "stream",
     "text": [
      "[\"(adult_train_cat_X['marital-status_Married-civ-spouse']> 0.5 & adult_train_cat_X['education-num']> 12.5  ) | (adult_train_cat_X['marital-status_Married-civ-spouse']<= 0.5& adult_train_cat_X['capital-gain']> 7073.5  ) | (adult_train_cat_X['marital-status_Married-civ-spouse']> 0.5 & adult_train_cat_X['education-num']<= 12.5& adult_train_cat_X['capital-gain']> 5095.5  )\"]\n"
     ]
    },
    {
     "name": "stderr",
     "output_type": "stream",
     "text": [
      " 47%|██████████████                | 21/45 [13:11<20:03, 50.13s/it]"
     ]
    },
    {
     "name": "stdout",
     "output_type": "stream",
     "text": [
      "[\"(adult_train_cat_X['marital-status_Married-civ-spouse']> 0.5 & adult_train_cat_X['education-num']> 12.5  ) | (adult_train_cat_X['marital-status_Married-civ-spouse']<= 0.5& adult_train_cat_X['capital-gain']> 7073.5  ) | (adult_train_cat_X['marital-status_Married-civ-spouse']> 0.5 & adult_train_cat_X['education-num']<= 12.5& adult_train_cat_X['capital-gain']> 5095.5  )\"]\n"
     ]
    },
    {
     "name": "stderr",
     "output_type": "stream",
     "text": [
      " 49%|██████████████▋               | 22/45 [13:54<18:22, 47.95s/it]"
     ]
    },
    {
     "name": "stdout",
     "output_type": "stream",
     "text": [
      "[\"(adult_train_cat_X['marital-status_Married-civ-spouse']> 0.5 & adult_train_cat_X['education-num']> 12.5  ) | (adult_train_cat_X['marital-status_Married-civ-spouse']<= 0.5& adult_train_cat_X['capital-gain']> 7073.5  ) | (adult_train_cat_X['marital-status_Married-civ-spouse']> 0.5 & adult_train_cat_X['education-num']<= 12.5& adult_train_cat_X['capital-gain']> 5095.5  )\"]\n"
     ]
    },
    {
     "name": "stderr",
     "output_type": "stream",
     "text": [
      " 51%|███████████████▎              | 23/45 [14:36<16:56, 46.18s/it]"
     ]
    },
    {
     "name": "stdout",
     "output_type": "stream",
     "text": [
      "[\"(adult_train_cat_X['marital-status_Married-civ-spouse']> 0.5 & adult_train_cat_X['education-num']> 12.5  ) | (adult_train_cat_X['marital-status_Married-civ-spouse']<= 0.5& adult_train_cat_X['capital-gain']> 7073.5  ) | (adult_train_cat_X['marital-status_Married-civ-spouse']> 0.5 & adult_train_cat_X['education-num']<= 12.5& adult_train_cat_X['capital-gain']> 5095.5  )\"]\n"
     ]
    },
    {
     "name": "stderr",
     "output_type": "stream",
     "text": [
      " 53%|████████████████              | 24/45 [15:18<15:43, 44.92s/it]"
     ]
    },
    {
     "name": "stdout",
     "output_type": "stream",
     "text": [
      "[\"(adult_train_cat_X['marital-status_Married-civ-spouse']> 0.5 & adult_train_cat_X['education-num']> 12.5  ) | (adult_train_cat_X['marital-status_Married-civ-spouse']<= 0.5& adult_train_cat_X['capital-gain']> 7073.5  ) | (adult_train_cat_X['marital-status_Married-civ-spouse']> 0.5 & adult_train_cat_X['education-num']<= 12.5& adult_train_cat_X['capital-gain']> 5095.5  )\"]\n"
     ]
    },
    {
     "name": "stderr",
     "output_type": "stream",
     "text": [
      " 56%|████████████████▋             | 25/45 [16:00<14:42, 44.11s/it]"
     ]
    },
    {
     "name": "stdout",
     "output_type": "stream",
     "text": [
      "[\"(adult_train_cat_X['marital-status_Married-civ-spouse']> 0.5 & adult_train_cat_X['education-num']> 12.5  ) | (adult_train_cat_X['marital-status_Married-civ-spouse']<= 0.5& adult_train_cat_X['capital-gain']> 7073.5  ) | (adult_train_cat_X['marital-status_Married-civ-spouse']> 0.5 & adult_train_cat_X['education-num']<= 12.5& adult_train_cat_X['capital-gain']> 5095.5  )\"]\n"
     ]
    },
    {
     "name": "stderr",
     "output_type": "stream",
     "text": [
      " 58%|█████████████████▎            | 26/45 [16:44<13:57, 44.08s/it]"
     ]
    },
    {
     "name": "stdout",
     "output_type": "stream",
     "text": [
      "[\"(adult_train_cat_X['marital-status_Married-civ-spouse']> 0.5 & adult_train_cat_X['education-num']> 12.5  ) | (adult_train_cat_X['marital-status_Married-civ-spouse']<= 0.5& adult_train_cat_X['capital-gain']> 7073.5  ) | (adult_train_cat_X['marital-status_Married-civ-spouse']> 0.5 & adult_train_cat_X['education-num']<= 12.5& adult_train_cat_X['capital-gain']> 5095.5  )\"]\n"
     ]
    },
    {
     "name": "stderr",
     "output_type": "stream",
     "text": [
      " 60%|██████████████████            | 27/45 [17:30<13:21, 44.50s/it]"
     ]
    },
    {
     "name": "stdout",
     "output_type": "stream",
     "text": [
      "[\"(adult_train_cat_X['marital-status_Married-civ-spouse']> 0.5 & adult_train_cat_X['education-num']> 12.5  ) | (adult_train_cat_X['marital-status_Married-civ-spouse']<= 0.5& adult_train_cat_X['capital-gain']> 7073.5  ) | (adult_train_cat_X['marital-status_Married-civ-spouse']> 0.5 & adult_train_cat_X['education-num']<= 12.5& adult_train_cat_X['capital-gain']> 5095.5  )\"]\n"
     ]
    },
    {
     "name": "stderr",
     "output_type": "stream",
     "text": [
      " 62%|██████████████████▋           | 28/45 [17:55<10:58, 38.74s/it]"
     ]
    },
    {
     "name": "stdout",
     "output_type": "stream",
     "text": [
      "[\"(adult_train_cat_X['marital-status_Married-civ-spouse']> 0.5 & adult_train_cat_X['education-num']> 12.5  ) | (adult_train_cat_X['marital-status_Married-civ-spouse']<= 0.5& adult_train_cat_X['capital-gain']> 7073.5  ) | (adult_train_cat_X['marital-status_Married-civ-spouse']> 0.5 & adult_train_cat_X['education-num']<= 12.5& adult_train_cat_X['capital-gain']> 5095.5  )\"]\n"
     ]
    },
    {
     "name": "stderr",
     "output_type": "stream",
     "text": [
      " 64%|███████████████████▎          | 29/45 [18:21<09:16, 34.77s/it]"
     ]
    },
    {
     "name": "stdout",
     "output_type": "stream",
     "text": [
      "[\"(adult_train_cat_X['marital-status_Married-civ-spouse']> 0.5 & adult_train_cat_X['education-num']> 12.5  ) | (adult_train_cat_X['marital-status_Married-civ-spouse']<= 0.5& adult_train_cat_X['capital-gain']> 7073.5  ) | (adult_train_cat_X['marital-status_Married-civ-spouse']> 0.5 & adult_train_cat_X['education-num']<= 12.5& adult_train_cat_X['capital-gain']> 5095.5  )\"]\n"
     ]
    },
    {
     "name": "stderr",
     "output_type": "stream",
     "text": [
      " 67%|████████████████████          | 30/45 [18:46<07:57, 31.86s/it]"
     ]
    },
    {
     "name": "stdout",
     "output_type": "stream",
     "text": [
      "[\"(adult_train_cat_X['marital-status_Married-civ-spouse']> 0.5 & adult_train_cat_X['education-num']> 12.5  ) | (adult_train_cat_X['marital-status_Married-civ-spouse']<= 0.5& adult_train_cat_X['capital-gain']> 7073.5  ) | (adult_train_cat_X['marital-status_Married-civ-spouse']> 0.5 & adult_train_cat_X['education-num']<= 12.5& adult_train_cat_X['capital-gain']> 5095.5  )\"]\n"
     ]
    },
    {
     "name": "stderr",
     "output_type": "stream",
     "text": [
      " 69%|████████████████████▋         | 31/45 [19:12<07:03, 30.24s/it]"
     ]
    },
    {
     "name": "stdout",
     "output_type": "stream",
     "text": [
      "[\"(adult_train_cat_X['marital-status_Married-civ-spouse']> 0.5 & adult_train_cat_X['education-num']> 12.5  ) | (adult_train_cat_X['marital-status_Married-civ-spouse']<= 0.5& adult_train_cat_X['capital-gain']> 7073.5  ) | (adult_train_cat_X['marital-status_Married-civ-spouse']> 0.5 & adult_train_cat_X['education-num']<= 12.5& adult_train_cat_X['capital-gain']> 5095.5  )\"]\n"
     ]
    },
    {
     "name": "stderr",
     "output_type": "stream",
     "text": [
      " 71%|█████████████████████▎        | 32/45 [19:38<06:14, 28.84s/it]"
     ]
    },
    {
     "name": "stdout",
     "output_type": "stream",
     "text": [
      "[\"(adult_train_cat_X['marital-status_Married-civ-spouse']> 0.5 & adult_train_cat_X['education-num']> 12.5  ) | (adult_train_cat_X['marital-status_Married-civ-spouse']<= 0.5& adult_train_cat_X['capital-gain']> 7073.5  ) | (adult_train_cat_X['marital-status_Married-civ-spouse']> 0.5 & adult_train_cat_X['education-num']<= 12.5& adult_train_cat_X['capital-gain']> 5095.5  )\"]\n"
     ]
    },
    {
     "name": "stderr",
     "output_type": "stream",
     "text": [
      " 73%|██████████████████████        | 33/45 [20:03<05:32, 27.71s/it]"
     ]
    },
    {
     "name": "stdout",
     "output_type": "stream",
     "text": [
      "[\"(adult_train_cat_X['marital-status_Married-civ-spouse']> 0.5 & adult_train_cat_X['education-num']> 12.5  ) | (adult_train_cat_X['marital-status_Married-civ-spouse']<= 0.5& adult_train_cat_X['capital-gain']> 7073.5  ) | (adult_train_cat_X['marital-status_Married-civ-spouse']> 0.5 & adult_train_cat_X['education-num']<= 12.5& adult_train_cat_X['capital-gain']> 5095.5  )\"]\n"
     ]
    },
    {
     "name": "stderr",
     "output_type": "stream",
     "text": [
      " 76%|██████████████████████▋       | 34/45 [20:28<04:57, 27.05s/it]"
     ]
    },
    {
     "name": "stdout",
     "output_type": "stream",
     "text": [
      "[\"(adult_train_cat_X['marital-status_Married-civ-spouse']> 0.5 & adult_train_cat_X['education-num']> 12.5  ) | (adult_train_cat_X['marital-status_Married-civ-spouse']<= 0.5& adult_train_cat_X['capital-gain']> 7073.5  ) | (adult_train_cat_X['marital-status_Married-civ-spouse']> 0.5 & adult_train_cat_X['education-num']<= 12.5& adult_train_cat_X['capital-gain']> 5095.5  )\"]\n"
     ]
    },
    {
     "name": "stderr",
     "output_type": "stream",
     "text": [
      " 78%|███████████████████████▎      | 35/45 [20:53<04:24, 26.48s/it]"
     ]
    },
    {
     "name": "stdout",
     "output_type": "stream",
     "text": [
      "[\"(adult_train_cat_X['marital-status_Married-civ-spouse']> 0.5 & adult_train_cat_X['education-num']> 12.5  ) | (adult_train_cat_X['marital-status_Married-civ-spouse']<= 0.5& adult_train_cat_X['capital-gain']> 7073.5  ) | (adult_train_cat_X['marital-status_Married-civ-spouse']> 0.5 & adult_train_cat_X['education-num']<= 12.5& adult_train_cat_X['capital-gain']> 5095.5  )\"]\n"
     ]
    },
    {
     "name": "stderr",
     "output_type": "stream",
     "text": [
      " 80%|████████████████████████      | 36/45 [21:18<03:54, 26.03s/it]"
     ]
    },
    {
     "name": "stdout",
     "output_type": "stream",
     "text": [
      "[\"(adult_train_cat_X['marital-status_Married-civ-spouse']> 0.5 & adult_train_cat_X['education-num']> 12.5  ) | (adult_train_cat_X['marital-status_Married-civ-spouse']<= 0.5& adult_train_cat_X['capital-gain']> 7073.5  ) | (adult_train_cat_X['marital-status_Married-civ-spouse']> 0.5 & adult_train_cat_X['education-num']<= 12.5& adult_train_cat_X['capital-gain']> 5095.5  )\"]\n"
     ]
    },
    {
     "name": "stderr",
     "output_type": "stream",
     "text": [
      " 82%|████████████████████████▋     | 37/45 [21:44<03:26, 25.77s/it]"
     ]
    },
    {
     "name": "stdout",
     "output_type": "stream",
     "text": [
      "[\"(adult_train_cat_X['marital-status_Married-civ-spouse']> 0.5 & adult_train_cat_X['education-num']> 12.5  ) | (adult_train_cat_X['marital-status_Married-civ-spouse']<= 0.5& adult_train_cat_X['capital-gain']> 7073.5  ) | (adult_train_cat_X['marital-status_Married-civ-spouse']> 0.5 & adult_train_cat_X['education-num']<= 12.5& adult_train_cat_X['capital-gain']> 5095.5  )\"]\n"
     ]
    },
    {
     "name": "stderr",
     "output_type": "stream",
     "text": [
      " 84%|█████████████████████████▎    | 38/45 [22:09<02:59, 25.65s/it]"
     ]
    },
    {
     "name": "stdout",
     "output_type": "stream",
     "text": [
      "[\"(adult_train_cat_X['marital-status_Married-civ-spouse']> 0.5 & adult_train_cat_X['education-num']> 12.5  ) | (adult_train_cat_X['marital-status_Married-civ-spouse']<= 0.5& adult_train_cat_X['capital-gain']> 7073.5  ) | (adult_train_cat_X['marital-status_Married-civ-spouse']> 0.5 & adult_train_cat_X['education-num']<= 12.5& adult_train_cat_X['capital-gain']> 5095.5  )\"]\n"
     ]
    },
    {
     "name": "stderr",
     "output_type": "stream",
     "text": [
      " 87%|██████████████████████████    | 39/45 [22:34<02:33, 25.57s/it]"
     ]
    },
    {
     "name": "stdout",
     "output_type": "stream",
     "text": [
      "[\"(adult_train_cat_X['marital-status_Married-civ-spouse']> 0.5 & adult_train_cat_X['education-num']> 12.5  ) | (adult_train_cat_X['marital-status_Married-civ-spouse']<= 0.5& adult_train_cat_X['capital-gain']> 7073.5  ) | (adult_train_cat_X['marital-status_Married-civ-spouse']> 0.5 & adult_train_cat_X['education-num']<= 12.5& adult_train_cat_X['capital-gain']> 5095.5  )\"]\n"
     ]
    },
    {
     "name": "stderr",
     "output_type": "stream",
     "text": [
      " 89%|██████████████████████████▋   | 40/45 [22:59<02:06, 25.39s/it]"
     ]
    },
    {
     "name": "stdout",
     "output_type": "stream",
     "text": [
      "[\"(adult_train_cat_X['marital-status_Married-civ-spouse']> 0.5 & adult_train_cat_X['education-num']> 12.5  ) | (adult_train_cat_X['marital-status_Married-civ-spouse']<= 0.5& adult_train_cat_X['capital-gain']> 7073.5  ) | (adult_train_cat_X['marital-status_Married-civ-spouse']> 0.5 & adult_train_cat_X['education-num']<= 12.5& adult_train_cat_X['capital-gain']> 5095.5  )\"]\n"
     ]
    },
    {
     "name": "stderr",
     "output_type": "stream",
     "text": [
      " 91%|███████████████████████████▎  | 41/45 [23:36<01:55, 28.86s/it]"
     ]
    },
    {
     "name": "stdout",
     "output_type": "stream",
     "text": [
      "[\"(adult_train_cat_X['marital-status_Married-civ-spouse']> 0.5 & adult_train_cat_X['education-num']> 12.5  ) | (adult_train_cat_X['marital-status_Married-civ-spouse']<= 0.5& adult_train_cat_X['capital-gain']> 7073.5  ) | (adult_train_cat_X['marital-status_Married-civ-spouse']> 0.5 & adult_train_cat_X['education-num']<= 12.5& adult_train_cat_X['capital-gain']> 5095.5  )\"]\n"
     ]
    },
    {
     "name": "stderr",
     "output_type": "stream",
     "text": [
      " 93%|████████████████████████████  | 42/45 [24:04<01:25, 28.42s/it]"
     ]
    },
    {
     "name": "stdout",
     "output_type": "stream",
     "text": [
      "[\"(adult_train_cat_X['marital-status_Married-civ-spouse']> 0.5 & adult_train_cat_X['education-num']> 12.5  ) | (adult_train_cat_X['marital-status_Married-civ-spouse']<= 0.5& adult_train_cat_X['capital-gain']> 7073.5  ) | (adult_train_cat_X['marital-status_Married-civ-spouse']> 0.5 & adult_train_cat_X['education-num']<= 12.5& adult_train_cat_X['capital-gain']> 5095.5  )\"]\n"
     ]
    },
    {
     "name": "stderr",
     "output_type": "stream",
     "text": [
      " 96%|████████████████████████████▋ | 43/45 [24:28<00:54, 27.33s/it]"
     ]
    },
    {
     "name": "stdout",
     "output_type": "stream",
     "text": [
      "[\"(adult_train_cat_X['marital-status_Married-civ-spouse']> 0.5 & adult_train_cat_X['education-num']> 12.5  ) | (adult_train_cat_X['marital-status_Married-civ-spouse']<= 0.5& adult_train_cat_X['capital-gain']> 7073.5  ) | (adult_train_cat_X['marital-status_Married-civ-spouse']> 0.5 & adult_train_cat_X['education-num']<= 12.5& adult_train_cat_X['capital-gain']> 5095.5  )\"]\n"
     ]
    },
    {
     "name": "stderr",
     "output_type": "stream",
     "text": [
      " 98%|█████████████████████████████▎| 44/45 [24:54<00:26, 26.67s/it]"
     ]
    },
    {
     "name": "stdout",
     "output_type": "stream",
     "text": [
      "[\"(adult_train_cat_X['marital-status_Married-civ-spouse']> 0.5 & adult_train_cat_X['education-num']> 12.5  ) | (adult_train_cat_X['marital-status_Married-civ-spouse']<= 0.5& adult_train_cat_X['capital-gain']> 7073.5  ) | (adult_train_cat_X['marital-status_Married-civ-spouse']> 0.5 & adult_train_cat_X['education-num']<= 12.5& adult_train_cat_X['capital-gain']> 5095.5  )\"]\n"
     ]
    },
    {
     "name": "stderr",
     "output_type": "stream",
     "text": [
      "100%|██████████████████████████████| 45/45 [25:31<00:00, 34.02s/it]\n"
     ]
    }
   ],
   "source": [
    "epsilons = np.linspace(0.01, 1, 45)\n",
    "runs = 10\n",
    "\n",
    "laplace_errs_combined, exp_errs_combined = [], []\n",
    "laplace_uncert_combined, exp_uncert_combined = [], []\n",
    "for epsilon in tqdm(epsilons):\n",
    "    sp_errs = experiment(rules, best_tree.predict(adult_train_cat_X), adult_train_cat_X,\n",
    "                         adult_train_sex, epsilon=epsilon, runs=runs, mechanisms=[\"laplacian\", \"exponential\"], histogram=True, combined=True)\n",
    "    \n",
    "    avg_errs = np.mean(sp_errs, axis=0)\n",
    "    std_errs = np.std(sp_errs, ddof=1, axis=0)\n",
    "    uncertainty = std_errs / np.sqrt(runs)\n",
    "    \n",
    "    laplace_errs_combined.append(avg_errs[0])\n",
    "    exp_errs_combined.append(avg_errs[1])\n",
    "    laplace_uncert_combined.append(uncertainty[0])\n",
    "    exp_uncert_combined.append(uncertainty[1])\n",
    "    "
   ]
  },
  {
   "cell_type": "code",
   "execution_count": 91,
   "id": "aa2d0eea-80ea-4a35-9261-16e312e1495e",
   "metadata": {
    "tags": []
   },
   "outputs": [
    {
     "data": {
      "image/png": "[encoded data removed]",
      "text/plain": [
       "<Figure size 640x480 with 1 Axes>"
      ]
     },
     "metadata": {},
     "output_type": "display_data"
    }
   ],
   "source": [
    "laplace_errs_combined = np.array(laplace_errs_combined)\n",
    "exp_errs_combined = np.array(exp_errs_combined)\n",
    "laplace_uncert_combined = np.array(laplace_uncert_combined)\n",
    "exp_uncert_combined = np.array(exp_uncert_combined)\n",
    "\n",
    "plt.plot(epsilons, laplace_errs_combined, label=\"Laplacian\")\n",
    "plt.fill_between(epsilons, laplace_errs_combined + laplace_uncert_combined, laplace_errs_combined - laplace_uncert_combined, alpha=0.2)\n",
    "plt.plot(epsilons, exp_errs_combined, label=\"Exponential\")\n",
    "plt.fill_between(epsilons, exp_errs_combined + exp_uncert_combined, exp_errs_combined - exp_uncert_combined, alpha=0.2)\n",
    "plt.legend()\n",
    "plt.title(\"Comparison of DP mechanisms for different epsilons based on average SP with combined query\")\n",
    "plt.ylabel(\"Average SP error\")\n",
    "plt.xlabel(\"Privacy budget $\\epsilon$\")\n",
    "plt.savefig(f\"adult-mechcomp-sex-combined-{datetime.now()}-{runs}\")\n",
    "plt.show()"
   ]
  },
  {
   "cell_type": "code",
   "execution_count": 93,
   "id": "91f26fe3-68c1-440e-835a-4637ef5bfd1e",
   "metadata": {
    "tags": []
   },
   "outputs": [
    {
     "data": {
      "text/plain": [
       "Ttest_indResult(statistic=-1.0149728031919305, pvalue=0.15645064805452005)"
      ]
     },
     "execution_count": 93,
     "metadata": {},
     "output_type": "execute_result"
    }
   ],
   "source": [
    "ttest_ind(laplace_errs_combined, laplace_errs_hist, alternative='less')"
   ]
  },
  {
   "cell_type": "code",
   "execution_count": 94,
   "id": "b87b34c5-daf6-4d3a-a98c-db0dd4382c26",
   "metadata": {
    "tags": []
   },
   "outputs": [
    {
     "data": {
      "text/plain": [
       "Ttest_indResult(statistic=-3.301296173964375, pvalue=0.0006957432417753048)"
      ]
     },
     "execution_count": 94,
     "metadata": {},
     "output_type": "execute_result"
    }
   ],
   "source": [
    "ttest_ind(exp_errs_combined, exp_errs_hist, alternative='less')"
   ]
  },
  {
   "cell_type": "code",
   "execution_count": null,
   "id": "d3c97186-4a70-47d6-98d1-74459e75264b",
   "metadata": {},
   "outputs": [],
   "source": []
  }
 ],
 "metadata": {
  "kernelspec": {
   "display_name": "Python 3 (ipykernel)",
   "language": "python",
   "name": "python3"
  },
  "language_info": {
   "codemirror_mode": {
    "name": "ipython",
    "version": 3
   },
   "file_extension": ".py",
   "mimetype": "text/x-python",
   "name": "python",
   "nbconvert_exporter": "python",
   "pygments_lexer": "ipython3",
   "version": "3.11.0"
  }
 },
 "nbformat": 4,
 "nbformat_minor": 5
}
