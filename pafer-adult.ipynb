{
 "cells": [
  {
   "cell_type": "markdown",
   "id": "76b8cfa6",
   "metadata": {
    "tags": []
   },
   "source": [
    "# PAFER implementation\n",
    "This is an implementation of the Privacy Aware Fairness Estimation of Rules (PAFER) method as described in my thesis (proposal). The goal of the method is to predict the Statistical Parity of a decision tree, whilst adhering to some privacy constraint. This specific notebook implements the Gaussian, Laplacian and Exponential differential privacy mechanism, and tests them on the Adult dataset. First, the data is imported and pre-processed, then the decision tree is trained, followed by the implementation of PAFER and some experiments of the different mechanisms. The notebook is developed in Python 3.11 for performance reasons. A ```requirements.txt``` file is available. "
   ]
  },
  {
   "cell_type": "markdown",
   "id": "d1579115",
   "metadata": {},
   "source": [
    "## Imports"
   ]
  },
  {
   "cell_type": "code",
   "execution_count": 37,
   "id": "0c984b76",
   "metadata": {
    "tags": []
   },
   "outputs": [],
   "source": [
    "import itertools\n",
    "from datetime import datetime\n",
    "\n",
    "import numpy as np\n",
    "import pandas as pd\n",
    "import matplotlib.pyplot as plt\n",
    "from sklearn.tree import DecisionTreeClassifier, plot_tree, export_text\n",
    "from sklearn.tree._tree import TREE_LEAF\n",
    "from sklearn.metrics import confusion_matrix, ConfusionMatrixDisplay, balanced_accuracy_score, roc_auc_score, accuracy_score\n",
    "from sklearn.model_selection import GridSearchCV\n",
    "from scipy.stats import ttest_ind\n",
    "from tqdm import tqdm"
   ]
  },
  {
   "cell_type": "markdown",
   "id": "ab5ffb16",
   "metadata": {},
   "source": [
    "## Data loading and pre-processing"
   ]
  },
  {
   "cell_type": "code",
   "execution_count": 38,
   "id": "932aeefd",
   "metadata": {
    "tags": []
   },
   "outputs": [],
   "source": [
    "# The Adult data source: https://archive.ics.uci.edu/ml/datasets/adult\n",
    "adult_train = pd.read_csv(\"adult.data\", sep=',\\s+', engine='python')\n",
    "adult_test = pd.read_csv(\"adult.test\", sep=',\\s+', engine='python')"
   ]
  },
  {
   "cell_type": "code",
   "execution_count": 39,
   "id": "6843f511",
   "metadata": {
    "tags": []
   },
   "outputs": [
    {
     "data": {
      "text/html": [
       "<div>\n",
       "<style scoped>\n",
       "    .dataframe tbody tr th:only-of-type {\n",
       "        vertical-align: middle;\n",
       "    }\n",
       "\n",
       "    .dataframe tbody tr th {\n",
       "        vertical-align: top;\n",
       "    }\n",
       "\n",
       "    .dataframe thead th {\n",
       "        text-align: right;\n",
       "    }\n",
       "</style>\n",
       "<table border=\"1\" class=\"dataframe\">\n",
       "  <thead>\n",
       "    <tr style=\"text-align: right;\">\n",
       "      <th></th>\n",
       "      <th>age</th>\n",
       "      <th>workclass</th>\n",
       "      <th>fnlwgt</th>\n",
       "      <th>education</th>\n",
       "      <th>education-num</th>\n",
       "      <th>marital-status</th>\n",
       "      <th>occupation</th>\n",
       "      <th>relationship</th>\n",
       "      <th>race</th>\n",
       "      <th>sex</th>\n",
       "      <th>capital-gain</th>\n",
       "      <th>capital-loss</th>\n",
       "      <th>hours-per-week</th>\n",
       "      <th>native-country</th>\n",
       "      <th>outcome</th>\n",
       "    </tr>\n",
       "  </thead>\n",
       "  <tbody>\n",
       "    <tr>\n",
       "      <th>0</th>\n",
       "      <td>25</td>\n",
       "      <td>Private</td>\n",
       "      <td>226802</td>\n",
       "      <td>11th</td>\n",
       "      <td>7</td>\n",
       "      <td>Never-married</td>\n",
       "      <td>Machine-op-inspct</td>\n",
       "      <td>Own-child</td>\n",
       "      <td>Black</td>\n",
       "      <td>Male</td>\n",
       "      <td>0</td>\n",
       "      <td>0</td>\n",
       "      <td>40</td>\n",
       "      <td>United-States</td>\n",
       "      <td>&lt;=50K.</td>\n",
       "    </tr>\n",
       "    <tr>\n",
       "      <th>1</th>\n",
       "      <td>38</td>\n",
       "      <td>Private</td>\n",
       "      <td>89814</td>\n",
       "      <td>HS-grad</td>\n",
       "      <td>9</td>\n",
       "      <td>Married-civ-spouse</td>\n",
       "      <td>Farming-fishing</td>\n",
       "      <td>Husband</td>\n",
       "      <td>White</td>\n",
       "      <td>Male</td>\n",
       "      <td>0</td>\n",
       "      <td>0</td>\n",
       "      <td>50</td>\n",
       "      <td>United-States</td>\n",
       "      <td>&lt;=50K.</td>\n",
       "    </tr>\n",
       "    <tr>\n",
       "      <th>2</th>\n",
       "      <td>28</td>\n",
       "      <td>Local-gov</td>\n",
       "      <td>336951</td>\n",
       "      <td>Assoc-acdm</td>\n",
       "      <td>12</td>\n",
       "      <td>Married-civ-spouse</td>\n",
       "      <td>Protective-serv</td>\n",
       "      <td>Husband</td>\n",
       "      <td>White</td>\n",
       "      <td>Male</td>\n",
       "      <td>0</td>\n",
       "      <td>0</td>\n",
       "      <td>40</td>\n",
       "      <td>United-States</td>\n",
       "      <td>&gt;50K.</td>\n",
       "    </tr>\n",
       "    <tr>\n",
       "      <th>3</th>\n",
       "      <td>44</td>\n",
       "      <td>Private</td>\n",
       "      <td>160323</td>\n",
       "      <td>Some-college</td>\n",
       "      <td>10</td>\n",
       "      <td>Married-civ-spouse</td>\n",
       "      <td>Machine-op-inspct</td>\n",
       "      <td>Husband</td>\n",
       "      <td>Black</td>\n",
       "      <td>Male</td>\n",
       "      <td>7688</td>\n",
       "      <td>0</td>\n",
       "      <td>40</td>\n",
       "      <td>United-States</td>\n",
       "      <td>&gt;50K.</td>\n",
       "    </tr>\n",
       "    <tr>\n",
       "      <th>4</th>\n",
       "      <td>18</td>\n",
       "      <td>?</td>\n",
       "      <td>103497</td>\n",
       "      <td>Some-college</td>\n",
       "      <td>10</td>\n",
       "      <td>Never-married</td>\n",
       "      <td>?</td>\n",
       "      <td>Own-child</td>\n",
       "      <td>White</td>\n",
       "      <td>Female</td>\n",
       "      <td>0</td>\n",
       "      <td>0</td>\n",
       "      <td>30</td>\n",
       "      <td>United-States</td>\n",
       "      <td>&lt;=50K.</td>\n",
       "    </tr>\n",
       "    <tr>\n",
       "      <th>...</th>\n",
       "      <td>...</td>\n",
       "      <td>...</td>\n",
       "      <td>...</td>\n",
       "      <td>...</td>\n",
       "      <td>...</td>\n",
       "      <td>...</td>\n",
       "      <td>...</td>\n",
       "      <td>...</td>\n",
       "      <td>...</td>\n",
       "      <td>...</td>\n",
       "      <td>...</td>\n",
       "      <td>...</td>\n",
       "      <td>...</td>\n",
       "      <td>...</td>\n",
       "      <td>...</td>\n",
       "    </tr>\n",
       "    <tr>\n",
       "      <th>16276</th>\n",
       "      <td>39</td>\n",
       "      <td>Private</td>\n",
       "      <td>215419</td>\n",
       "      <td>Bachelors</td>\n",
       "      <td>13</td>\n",
       "      <td>Divorced</td>\n",
       "      <td>Prof-specialty</td>\n",
       "      <td>Not-in-family</td>\n",
       "      <td>White</td>\n",
       "      <td>Female</td>\n",
       "      <td>0</td>\n",
       "      <td>0</td>\n",
       "      <td>36</td>\n",
       "      <td>United-States</td>\n",
       "      <td>&lt;=50K.</td>\n",
       "    </tr>\n",
       "    <tr>\n",
       "      <th>16277</th>\n",
       "      <td>64</td>\n",
       "      <td>?</td>\n",
       "      <td>321403</td>\n",
       "      <td>HS-grad</td>\n",
       "      <td>9</td>\n",
       "      <td>Widowed</td>\n",
       "      <td>?</td>\n",
       "      <td>Other-relative</td>\n",
       "      <td>Black</td>\n",
       "      <td>Male</td>\n",
       "      <td>0</td>\n",
       "      <td>0</td>\n",
       "      <td>40</td>\n",
       "      <td>United-States</td>\n",
       "      <td>&lt;=50K.</td>\n",
       "    </tr>\n",
       "    <tr>\n",
       "      <th>16278</th>\n",
       "      <td>38</td>\n",
       "      <td>Private</td>\n",
       "      <td>374983</td>\n",
       "      <td>Bachelors</td>\n",
       "      <td>13</td>\n",
       "      <td>Married-civ-spouse</td>\n",
       "      <td>Prof-specialty</td>\n",
       "      <td>Husband</td>\n",
       "      <td>White</td>\n",
       "      <td>Male</td>\n",
       "      <td>0</td>\n",
       "      <td>0</td>\n",
       "      <td>50</td>\n",
       "      <td>United-States</td>\n",
       "      <td>&lt;=50K.</td>\n",
       "    </tr>\n",
       "    <tr>\n",
       "      <th>16279</th>\n",
       "      <td>44</td>\n",
       "      <td>Private</td>\n",
       "      <td>83891</td>\n",
       "      <td>Bachelors</td>\n",
       "      <td>13</td>\n",
       "      <td>Divorced</td>\n",
       "      <td>Adm-clerical</td>\n",
       "      <td>Own-child</td>\n",
       "      <td>Asian-Pac-Islander</td>\n",
       "      <td>Male</td>\n",
       "      <td>5455</td>\n",
       "      <td>0</td>\n",
       "      <td>40</td>\n",
       "      <td>United-States</td>\n",
       "      <td>&lt;=50K.</td>\n",
       "    </tr>\n",
       "    <tr>\n",
       "      <th>16280</th>\n",
       "      <td>35</td>\n",
       "      <td>Self-emp-inc</td>\n",
       "      <td>182148</td>\n",
       "      <td>Bachelors</td>\n",
       "      <td>13</td>\n",
       "      <td>Married-civ-spouse</td>\n",
       "      <td>Exec-managerial</td>\n",
       "      <td>Husband</td>\n",
       "      <td>White</td>\n",
       "      <td>Male</td>\n",
       "      <td>0</td>\n",
       "      <td>0</td>\n",
       "      <td>60</td>\n",
       "      <td>United-States</td>\n",
       "      <td>&gt;50K.</td>\n",
       "    </tr>\n",
       "  </tbody>\n",
       "</table>\n",
       "<p>16281 rows × 15 columns</p>\n",
       "</div>"
      ],
      "text/plain": [
       "       age     workclass  fnlwgt     education  education-num  \\\n",
       "0       25       Private  226802          11th              7   \n",
       "1       38       Private   89814       HS-grad              9   \n",
       "2       28     Local-gov  336951    Assoc-acdm             12   \n",
       "3       44       Private  160323  Some-college             10   \n",
       "4       18             ?  103497  Some-college             10   \n",
       "...    ...           ...     ...           ...            ...   \n",
       "16276   39       Private  215419     Bachelors             13   \n",
       "16277   64             ?  321403       HS-grad              9   \n",
       "16278   38       Private  374983     Bachelors             13   \n",
       "16279   44       Private   83891     Bachelors             13   \n",
       "16280   35  Self-emp-inc  182148     Bachelors             13   \n",
       "\n",
       "           marital-status         occupation    relationship  \\\n",
       "0           Never-married  Machine-op-inspct       Own-child   \n",
       "1      Married-civ-spouse    Farming-fishing         Husband   \n",
       "2      Married-civ-spouse    Protective-serv         Husband   \n",
       "3      Married-civ-spouse  Machine-op-inspct         Husband   \n",
       "4           Never-married                  ?       Own-child   \n",
       "...                   ...                ...             ...   \n",
       "16276            Divorced     Prof-specialty   Not-in-family   \n",
       "16277             Widowed                  ?  Other-relative   \n",
       "16278  Married-civ-spouse     Prof-specialty         Husband   \n",
       "16279            Divorced       Adm-clerical       Own-child   \n",
       "16280  Married-civ-spouse    Exec-managerial         Husband   \n",
       "\n",
       "                     race     sex  capital-gain  capital-loss  hours-per-week  \\\n",
       "0                   Black    Male             0             0              40   \n",
       "1                   White    Male             0             0              50   \n",
       "2                   White    Male             0             0              40   \n",
       "3                   Black    Male          7688             0              40   \n",
       "4                   White  Female             0             0              30   \n",
       "...                   ...     ...           ...           ...             ...   \n",
       "16276               White  Female             0             0              36   \n",
       "16277               Black    Male             0             0              40   \n",
       "16278               White    Male             0             0              50   \n",
       "16279  Asian-Pac-Islander    Male          5455             0              40   \n",
       "16280               White    Male             0             0              60   \n",
       "\n",
       "      native-country outcome  \n",
       "0      United-States  <=50K.  \n",
       "1      United-States  <=50K.  \n",
       "2      United-States   >50K.  \n",
       "3      United-States   >50K.  \n",
       "4      United-States  <=50K.  \n",
       "...              ...     ...  \n",
       "16276  United-States  <=50K.  \n",
       "16277  United-States  <=50K.  \n",
       "16278  United-States  <=50K.  \n",
       "16279  United-States  <=50K.  \n",
       "16280  United-States   >50K.  \n",
       "\n",
       "[16281 rows x 15 columns]"
      ]
     },
     "execution_count": 39,
     "metadata": {},
     "output_type": "execute_result"
    }
   ],
   "source": [
    "adult_test"
   ]
  },
  {
   "cell_type": "code",
   "execution_count": 40,
   "id": "d999b307",
   "metadata": {
    "tags": []
   },
   "outputs": [],
   "source": [
    "# drop incomplete instances, rows that contain ? values\n",
    "adult_test = adult_test[(adult_test != '?').all(1)]\n",
    "adult_train = adult_train[(adult_train != '?').all(1)]\n",
    "\n",
    "# drop fnlwgt column, which is uninformational and might cause overfitting\n",
    "adult_test = adult_test.drop(columns=[\"fnlwgt\"])\n",
    "adult_train = adult_train.drop(columns=[\"fnlwgt\"])"
   ]
  },
  {
   "cell_type": "code",
   "execution_count": 41,
   "id": "809d7da0",
   "metadata": {
    "tags": []
   },
   "outputs": [],
   "source": [
    "# separate labels\n",
    "adult_test_y = adult_test['outcome']\n",
    "adult_test_X = adult_test.loc[:, adult_test.columns != 'outcome']\n",
    "adult_train_y = adult_train['outcome']\n",
    "adult_train_X = adult_train.loc[:, adult_train.columns != 'outcome']"
   ]
  },
  {
   "cell_type": "code",
   "execution_count": 42,
   "id": "27c616fe",
   "metadata": {
    "tags": []
   },
   "outputs": [],
   "source": [
    "# transform labels to 0 and 1, above 50k is favorable outcome\n",
    "adult_test_y = adult_test_y.map({'<=50K.': 0, '>50K.': 1})\n",
    "adult_train_y = adult_train_y.map({'<=50K': 0, '>50K': 1})"
   ]
  },
  {
   "cell_type": "code",
   "execution_count": 43,
   "id": "041cb2f3",
   "metadata": {
    "tags": []
   },
   "outputs": [],
   "source": [
    "# remove race and sex from model data\n",
    "adult_train_sex = adult_train_X[\"sex\"]\n",
    "adult_test_sex = adult_test_X[\"sex\"]\n",
    "adult_train_race = adult_train_X[\"race\"]\n",
    "adult_test_race = adult_test_X[\"race\"]\n",
    "adult_train_nc = adult_train_X[\"native-country\"]\n",
    "adult_test_nc = adult_test_X[\"native-country\"]\n",
    "adult_train_age = adult_train_X[\"age\"]\n",
    "adult_test_age = adult_test_X[\"age\"]\n",
    "adult_train_X = adult_train_X.drop(columns=[\"race\", \"sex\", \"native-country\", \"age\"])\n",
    "adult_test_X = adult_test_X.drop(columns=[\"race\", \"sex\", \"native-country\", \"age\"])"
   ]
  },
  {
   "cell_type": "code",
   "execution_count": 44,
   "id": "95fc68b8",
   "metadata": {
    "tags": []
   },
   "outputs": [
    {
     "data": {
      "text/plain": [
       "White        25933\n",
       "Non_White     4229\n",
       "Name: race, dtype: int64"
      ]
     },
     "execution_count": 44,
     "metadata": {},
     "output_type": "execute_result"
    }
   ],
   "source": [
    "# convert race data to binary white - non-white\n",
    "race_map_dict = {\"White\": \"White\", \"Black\": \"Non_White\", \"Asian-Pac-Islander\": \"Non_White\", \"Other\": \"Non_White\", \"Amer-Indian-Eskimo\": \"Non_White\"}\n",
    "adult_train_race = adult_train_race.map(race_map_dict)\n",
    "adult_test_race = adult_test_race.map(race_map_dict)\n",
    "adult_train_race.value_counts()"
   ]
  },
  {
   "cell_type": "code",
   "execution_count": 45,
   "id": "136ddf88",
   "metadata": {
    "tags": []
   },
   "outputs": [
    {
     "data": {
      "text/plain": [
       "Male-White          18038\n",
       "Female-White         7895\n",
       "Male-Non_White       2342\n",
       "Female-Non_White     1887\n",
       "dtype: int64"
      ]
     },
     "execution_count": 45,
     "metadata": {},
     "output_type": "execute_result"
    }
   ],
   "source": [
    "# convert the two sensitive attributes into a dataframe and then into a series\n",
    "adult_train_sexrace = pd.concat([adult_train_sex, adult_train_race], axis=1)\n",
    "adult_train_sex_race = adult_train_sexrace[['sex', 'race']].agg('-'.join, axis=1)\n",
    "adult_train_sex_race.value_counts()"
   ]
  },
  {
   "cell_type": "code",
   "execution_count": 46,
   "id": "6fa4a793",
   "metadata": {
    "tags": []
   },
   "outputs": [
    {
     "data": {
      "text/plain": [
       "Male-White          8982\n",
       "Female-White        3988\n",
       "Male-Non_White      1165\n",
       "Female-Non_White     925\n",
       "dtype: int64"
      ]
     },
     "execution_count": 46,
     "metadata": {},
     "output_type": "execute_result"
    }
   ],
   "source": [
    "# convert the two sensitive attributes into a dataframe and then into a series\n",
    "adult_test_sexrace = pd.concat([adult_test_sex, adult_test_race], axis=1)\n",
    "adult_test_sex_race = adult_test_sexrace[['sex', 'race']].agg('-'.join, axis=1)\n",
    "adult_test_sex_race.value_counts()"
   ]
  },
  {
   "cell_type": "code",
   "execution_count": 47,
   "id": "bebd15c0",
   "metadata": {
    "tags": []
   },
   "outputs": [],
   "source": [
    "# convert both datasets to one-hot encoding\n",
    "adult_train_cat_X = pd.get_dummies(adult_train_X)\n",
    "adult_test_cat_X = pd.get_dummies(adult_test_X)"
   ]
  },
  {
   "cell_type": "code",
   "execution_count": 48,
   "id": "f2cd7a7c",
   "metadata": {
    "tags": []
   },
   "outputs": [
    {
     "data": {
      "text/plain": [
       "education-num                           int64\n",
       "capital-gain                            int64\n",
       "capital-loss                            int64\n",
       "hours-per-week                          int64\n",
       "workclass_Federal-gov                   uint8\n",
       "workclass_Local-gov                     uint8\n",
       "workclass_Private                       uint8\n",
       "workclass_Self-emp-inc                  uint8\n",
       "workclass_Self-emp-not-inc              uint8\n",
       "workclass_State-gov                     uint8\n",
       "workclass_Without-pay                   uint8\n",
       "education_10th                          uint8\n",
       "education_11th                          uint8\n",
       "education_12th                          uint8\n",
       "education_1st-4th                       uint8\n",
       "education_5th-6th                       uint8\n",
       "education_7th-8th                       uint8\n",
       "education_9th                           uint8\n",
       "education_Assoc-acdm                    uint8\n",
       "education_Assoc-voc                     uint8\n",
       "education_Bachelors                     uint8\n",
       "education_Doctorate                     uint8\n",
       "education_HS-grad                       uint8\n",
       "education_Masters                       uint8\n",
       "education_Preschool                     uint8\n",
       "education_Prof-school                   uint8\n",
       "education_Some-college                  uint8\n",
       "marital-status_Divorced                 uint8\n",
       "marital-status_Married-AF-spouse        uint8\n",
       "marital-status_Married-civ-spouse       uint8\n",
       "marital-status_Married-spouse-absent    uint8\n",
       "marital-status_Never-married            uint8\n",
       "marital-status_Separated                uint8\n",
       "marital-status_Widowed                  uint8\n",
       "occupation_Adm-clerical                 uint8\n",
       "occupation_Armed-Forces                 uint8\n",
       "occupation_Craft-repair                 uint8\n",
       "occupation_Exec-managerial              uint8\n",
       "occupation_Farming-fishing              uint8\n",
       "occupation_Handlers-cleaners            uint8\n",
       "occupation_Machine-op-inspct            uint8\n",
       "occupation_Other-service                uint8\n",
       "occupation_Priv-house-serv              uint8\n",
       "occupation_Prof-specialty               uint8\n",
       "occupation_Protective-serv              uint8\n",
       "occupation_Sales                        uint8\n",
       "occupation_Tech-support                 uint8\n",
       "occupation_Transport-moving             uint8\n",
       "relationship_Husband                    uint8\n",
       "relationship_Not-in-family              uint8\n",
       "relationship_Other-relative             uint8\n",
       "relationship_Own-child                  uint8\n",
       "relationship_Unmarried                  uint8\n",
       "relationship_Wife                       uint8\n",
       "dtype: object"
      ]
     },
     "execution_count": 48,
     "metadata": {},
     "output_type": "execute_result"
    }
   ],
   "source": [
    "adult_train_cat_X.dtypes"
   ]
  },
  {
   "cell_type": "markdown",
   "id": "ada1b73a",
   "metadata": {},
   "source": [
    "## Tree construction and evaluation "
   ]
  },
  {
   "cell_type": "code",
   "execution_count": null,
   "id": "e5602b09",
   "metadata": {
    "tags": []
   },
   "outputs": [
    {
     "name": "stdout",
     "output_type": "stream",
     "text": [
      "Fitting 3 folds for each of 2700 candidates, totalling 8100 fits\n"
     ]
    }
   ],
   "source": [
    "# construct decision tree\n",
    "tree = DecisionTreeClassifier(random_state=42)\n",
    "\n",
    "parameter_grid={\"criterion\":[\"entropy\", \"gini\"], \"max_depth\":[2, 3, 4], \n",
    "                \"max_features\":[\"sqrt\", None, \"log2\"], \n",
    "                \"max_leaf_nodes\":[3, 4, 5, 6, 7, 8, 9, 10, 11, 12], \"ccp_alpha\": [0.01, 0.05, 0.1],\n",
    "               \"min_impurity_decrease\": [0.001, 0.005, 0.01, 0.025, 0.05]}\n",
    "tree_cv = GridSearchCV(tree, param_grid=parameter_grid, scoring='balanced_accuracy', n_jobs=2, cv=3, verbose=1)\n",
    "tree_cv.fit(adult_train_cat_X, adult_train_y)\n",
    "best_tree = tree_cv.best_estimator_\n",
    "best_tree"
   ]
  },
  {
   "cell_type": "code",
   "execution_count": null,
   "id": "5b1f818a",
   "metadata": {
    "tags": []
   },
   "outputs": [],
   "source": [
    "# confusion matrix / performance on testset\n",
    "y_pred = best_tree.predict(adult_test_cat_X)\n",
    "cm = confusion_matrix(adult_test_y, y_pred, labels=best_tree.classes_)\n",
    "disp = ConfusionMatrixDisplay(confusion_matrix=cm, display_labels=best_tree.classes_)\n",
    "disp.plot()"
   ]
  },
  {
   "cell_type": "code",
   "execution_count": null,
   "id": "5600dbff",
   "metadata": {
    "tags": []
   },
   "outputs": [],
   "source": [
    "print(f\"Balanced accuracy on test set: {balanced_accuracy_score(adult_test_y, y_pred)}\")\n",
    "print(f\"ROC-AUC score on test set: {roc_auc_score(adult_test_y, y_pred)}\")\n",
    "print(f\"Accuracy score: {accuracy_score(adult_test_y, y_pred)}\")"
   ]
  },
  {
   "cell_type": "code",
   "execution_count": null,
   "id": "f2c86e63",
   "metadata": {
    "tags": []
   },
   "outputs": [],
   "source": [
    "column_names = [name for name in adult_train_cat_X.columns]\n",
    "print(export_text(best_tree, feature_names=column_names))"
   ]
  },
  {
   "cell_type": "code",
   "execution_count": null,
   "id": "2f35ff71",
   "metadata": {
    "tags": []
   },
   "outputs": [],
   "source": [
    "plt.figure(figsize=(30, 30))\n",
    "plot_tree(best_tree, feature_names=adult_train_cat_X.columns, filled=True)\n",
    "plt.show()"
   ]
  },
  {
   "cell_type": "code",
   "execution_count": null,
   "id": "3aee344f-326e-43fa-a97b-83fb98b9afee",
   "metadata": {
    "tags": []
   },
   "outputs": [],
   "source": [
    "# taken from: https://stackoverflow.com/a/51398390\n",
    "def is_leaf(inner_tree, index):\n",
    "    # Check whether node is leaf node\n",
    "    return (inner_tree.children_left[index] == TREE_LEAF and \n",
    "            inner_tree.children_right[index] == TREE_LEAF)\n",
    "\n",
    "def prune_index(inner_tree, decisions, index=0):\n",
    "    # Start pruning from the bottom - if we start from the top, we might miss\n",
    "    # nodes that become leaves during pruning.\n",
    "    # Do not use this directly - use prune_duplicate_leaves instead.\n",
    "    if not is_leaf(inner_tree, inner_tree.children_left[index]):\n",
    "        prune_index(inner_tree, decisions, inner_tree.children_left[index])\n",
    "    if not is_leaf(inner_tree, inner_tree.children_right[index]):\n",
    "        prune_index(inner_tree, decisions, inner_tree.children_right[index])\n",
    "\n",
    "    # Prune children if both children are leaves now and make the same decision:     \n",
    "    if (is_leaf(inner_tree, inner_tree.children_left[index]) and\n",
    "        is_leaf(inner_tree, inner_tree.children_right[index]) and\n",
    "        (decisions[index] == decisions[inner_tree.children_left[index]]) and \n",
    "        (decisions[index] == decisions[inner_tree.children_right[index]])):\n",
    "        # turn node into a leaf by \"unlinking\" its children\n",
    "        inner_tree.children_left[index] = TREE_LEAF\n",
    "        inner_tree.children_right[index] = TREE_LEAF\n",
    "        ##print(\"Pruned {}\".format(index))\n",
    "\n",
    "def prune_duplicate_leaves(mdl):\n",
    "    # Remove leaves if both \n",
    "    decisions = mdl.tree_.value.argmax(axis=2).flatten().tolist() # Decision for each node\n",
    "    prune_index(mdl.tree_, decisions)\n",
    "    \n",
    "# pruning happens in-place\n",
    "prune_duplicate_leaves(best_tree)"
   ]
  },
  {
   "cell_type": "code",
   "execution_count": null,
   "id": "0761cbd8-febd-4169-a2a4-5db31eea85da",
   "metadata": {
    "tags": []
   },
   "outputs": [],
   "source": [
    "plt.figure(figsize=(30,30))\n",
    "plot_tree(best_tree, feature_names=adult_train_cat_X.columns, filled=True, node_ids=True)\n",
    "plt.savefig(\"adulttree\", dpi=800)\n",
    "plt.show()"
   ]
  },
  {
   "cell_type": "markdown",
   "id": "080ea6bb",
   "metadata": {
    "tags": []
   },
   "source": [
    "## Rule extraction"
   ]
  },
  {
   "cell_type": "code",
   "execution_count": null,
   "id": "a31ed0e7",
   "metadata": {
    "tags": []
   },
   "outputs": [],
   "source": [
    "# taken from: https://stackoverflow.com/a/56427596\n",
    "n_nodes = best_tree.tree_.node_count\n",
    "children_left = best_tree.tree_.children_left\n",
    "children_right = best_tree.tree_.children_right\n",
    "feature = best_tree.tree_.feature\n",
    "threshold = best_tree.tree_.threshold\n",
    "\n",
    "def find_path(node_numb, path, x):\n",
    "    path.append(node_numb)\n",
    "    if node_numb == x:\n",
    "        return True\n",
    "    left = False\n",
    "    right = False\n",
    "    if (children_left[node_numb] !=-1):\n",
    "        left = find_path(children_left[node_numb], path, x)\n",
    "    if (children_right[node_numb] !=-1):\n",
    "        right = find_path(children_right[node_numb], path, x)\n",
    "    if left or right :\n",
    "        return True\n",
    "    path.remove(node_numb)\n",
    "    return False\n",
    "\n",
    "\n",
    "def get_rule(df_name, path, column_names):\n",
    "    mask = '('\n",
    "    for index, node in enumerate(path):\n",
    "        # check if we are not in the leaf\n",
    "        if index!=len(path)-1:\n",
    "            # under or over the threshold?\n",
    "            if (children_left[node] == path[index+1]):\n",
    "                mask += f\"{df_name}['{column_names[feature[node]]}']<= {threshold[node]}\\t \"\n",
    "            else:\n",
    "                mask += f\"{df_name}['{column_names[feature[node]]}']> {threshold[node]} \\t \"\n",
    "                \n",
    "    # insert the & at the right places\n",
    "    mask = mask.replace(\"\\t\", \"&\", mask.count(\"\\t\") - 1)\n",
    "    mask = mask.replace(\"\\t\", \"\")\n",
    "    mask += \")\"\n",
    "    return mask"
   ]
  },
  {
   "cell_type": "code",
   "execution_count": null,
   "id": "cf32b9a5",
   "metadata": {
    "tags": []
   },
   "outputs": [],
   "source": [
    "# Leaves\n",
    "leave_id = best_tree.apply(adult_test_cat_X)\n",
    "\n",
    "paths = {}\n",
    "for leaf in np.unique(leave_id):\n",
    "    path_leaf = []\n",
    "    find_path(0, path_leaf, leaf)\n",
    "    paths[leaf] = np.unique(np.sort(path_leaf))\n",
    "\n",
    "rules = {}\n",
    "for key in paths:\n",
    "    rules[key] = get_rule(\"adult_test_cat_X\", paths[key], column_names)\n",
    "    \n",
    "rules"
   ]
  },
  {
   "cell_type": "markdown",
   "id": "a0b82379",
   "metadata": {},
   "source": [
    "## PAFER (Privacy Aware Fairness Estimation of Rules)"
   ]
  },
  {
   "cell_type": "code",
   "execution_count": null,
   "id": "f2415fd4-f4c0-417f-8b7d-63996cb6c5be",
   "metadata": {
    "tags": []
   },
   "outputs": [],
   "source": [
    "def positive_rules (tree, rules):\n",
    "    \"\"\"From the extracted rules, return those that have a favorable classification\n",
    "\n",
    "    Arg:\n",
    "        tree: The tree classification object from which the rules are extracted. \n",
    "        rules: Dict of which the values are rule strings.\n",
    "\n",
    "    Returns:\n",
    "        A list of all the rules that classify favorably\"\"\"\n",
    "\n",
    "    # only those rules are added for which the majority of individuals in the node is at index 1 # index 1 corresponds to class 1\n",
    "    return [rule for node_id, rule in rules.items() if np.argmax(tree.tree_.value[node_id][0])]\n",
    "\n",
    "positive_rules(best_tree, rules)"
   ]
  },
  {
   "cell_type": "code",
   "execution_count": null,
   "id": "f3fc7c6e",
   "metadata": {
    "tags": []
   },
   "outputs": [],
   "source": [
    "def oracle(dataset, sens_dataset, rule, s_i, mechanism=None, epsilon=0.05, delta=0.001):\n",
    "    \"\"\"Returns some (differentially privatised) statistics on the sensitive attribute for the specified dataframe and rule\n",
    "    \n",
    "    Args:\n",
    "        df: The DataFrame that the developers own, which does not contain sensitive attributes.\n",
    "            Used to calculate total quantities in (root) nodes.\n",
    "        sens_dataset: A Series that the developers do not own, which contains the sensitive attributes. \n",
    "            Combined sensitive attributes should be encoded as a Series, e.g. Black-Female\n",
    "        rule: The rule, as a string, for which the to estimate the sensitive attribute.\n",
    "        s_i: The sensitive attribute, its name comes from the ith element in the set S of sensitive attributes.\n",
    "            s_i should be in sens_dataset and should thus be a string. \n",
    "        mechanism: The privacy mechanism used on the returned counts. Can be one of \"gaussian\", \"laplacian\", \"exponential\", None. \n",
    "        epsilon: The privacy budget. Should be larger than 0.\n",
    "        delta: The privacy margin. Ignored when mechanism is either laplacian or gaussian. Should be in (0, 1]. \n",
    "        \n",
    "    Returns:\n",
    "        The number of times s_i occurs in sens_dataset, privatised via the mechanism. \n",
    "        \"\"\"\n",
    "        \n",
    "    # check epsilon and delta parameters\n",
    "    if epsilon <= 0 or (mechanism == \"gaussian\" and (delta <= 0 or delta > 1 or epsilon > 1)):\n",
    "        raise ValueError(\"The value of delta should be in (0,1] when using the gaussian mechanism\")\n",
    "    \n",
    "    if not sens_dataset.isin([s_i]).any():\n",
    "        raise KeyError(\"The requested sensitive attribute (s_i) is not in the sensitive dataframe (sens_dataset)\")\n",
    "        \n",
    "    # the answer if no privacy mechanism is applied\n",
    "    no_mechanism = sens_dataset.loc[dataset[pd.eval(rule, engine='python')].index].value_counts(sort=False)[s_i]\n",
    "    \n",
    "    if mechanism == \"laplacian\":\n",
    "        # this is a histogram query so the l1-sensitivity = 1 as per Dwork & Roth \n",
    "        sensitivity = 1\n",
    "        return no_mechanism + np.random.laplace(loc=0, scale=sensitivity / epsilon)\n",
    "    \n",
    "    elif mechanism == \"gaussian\":\n",
    "        # this is a histogram query so the l2-sensitivity = 2 as per Dwork & Roth\n",
    "        sensitivity = 2\n",
    "        return no_mechanism + np.random.normal(loc=0, scale=2 * sensitivity**2 * np.log(1.25 / delta) / epsilon**2)\n",
    "    \n",
    "    elif mechanism == \"exponential\":\n",
    "        # this query can only change by 1 if an instance is omitted so l1-sensitivity = 1\n",
    "        sensitivity = 1\n",
    "        \n",
    "        # np.arange is [start, stop) so + 1 for entire possible range\n",
    "        possible_values = np.arange(0, sens_dataset.loc[dataset[pd.eval(rule, engine='python')].index].value_counts().to_numpy().sum() + 1)\n",
    "        \n",
    "        # the utility is higher when the value is closer to the actual value\n",
    "        utility_scores = np.array([no_mechanism - abs(no_mechanism - value) for value in possible_values]) / 100\n",
    "        probabilities = [np.exp(epsilon * score / (2 * sensitivity)) for score in utility_scores]\n",
    "        \n",
    "        # normalize probabilties to sum to 1\n",
    "        probabilities /= np.linalg.norm(probabilities, ord=1)\n",
    "        return np.random.choice(possible_values, p=probabilities)\n",
    "\n",
    "    # if no mechanism is given, return the unprivatised cocunt\n",
    "    return no_mechanism\n",
    "\n",
    "oracle(adult_test_cat_X, adult_test_sex, rules[3], \"Male\", \"laplacian\", epsilon=1, delta=0.1)"
   ]
  },
  {
   "cell_type": "code",
   "execution_count": null,
   "id": "e2ee1554",
   "metadata": {
    "tags": []
   },
   "outputs": [],
   "source": [
    "def statistical_parity(y_pred, sens_dataset):\n",
    "    \"\"\"Calculates Statistical Parity Ratio using the predictions and the actual sensitive feature values\n",
    "    \n",
    "    Args:\n",
    "        y_pred: The predictions, should be of same size as sens_dataset.\n",
    "        sens_dataset: The Series with the sensitive attributes.\n",
    "        \n",
    "    Returns:\n",
    "        The true statistical parity ratio.\n",
    "        \"\"\"\n",
    "    accept_rates = []\n",
    "    \n",
    "    for sens_attr in sens_dataset.value_counts().keys():\n",
    "        accept_rates.append(np.sum((sens_dataset == sens_attr) & y_pred) / np.sum(sens_dataset == sens_attr))\n",
    "        \n",
    "    return min(accept_rates) / max(accept_rates)\n",
    "\n",
    "\n",
    "def estimate_sp(pos_ruleset, dataset, sens_dataset, S, mechanism, epsilon, delta, histogram=False):\n",
    "    \"\"\"Returns the estimated Statistical Parity of a tree for a privacy mechanism\n",
    "    \n",
    "    Args:\n",
    "        pos_ruleset: A list of rules that classify favorably in the tree. This is the representation of the\n",
    "        (relevant parts of the) tree. \n",
    "        dataset: The DataFrame that the developers own that does not contain sensitive feature values.\n",
    "        sens_dataset: The Series that contains the sensitive features, which the developers do not own.\n",
    "        S: The set/list of sensitive attributes, should all be in the sens_dataset attribute.\n",
    "        mechanism: The mechanism with which to privatise the queries. \n",
    "        epsilon: The privacy budget for the privacy mechanism. Should be larger than 0.\n",
    "        delta: The privacy margin. Ignored when mechanism is either laplacian or gaussian. Should be in (0, 1].\n",
    "        \n",
    "    Returns:\n",
    "        The statistical parity ratio for the specified pos_ruleset. \n",
    "        \"\"\"\n",
    "    \n",
    "    poscounts_per_si = np.zeros(len(S))\n",
    "    \n",
    "    # the variable name of the current dataset is inferred from the ruleset\n",
    "    datasetname = str(pos_ruleset[0].split('[')[0])[1:]\n",
    "    \n",
    "    # the base rule is a rule that includes all individuals, i.e. the condition is a tautology\n",
    "    # in this case we select all rows that have a value that is in the set of possible values of the first column\n",
    "    base_rule = f\"({datasetname}[{datasetname}.columns[0]].isin({datasetname}[{datasetname}.columns[0]].unique()))\"\n",
    "    \n",
    "    if histogram:\n",
    "        total_per_si = [oracle(dataset, sens_dataset, base_rule, s_i, mechanism, 0.5 * epsilon, delta) for s_i in S]\n",
    "            \n",
    "    else:\n",
    "        # we can calculate the last count ourselves so we iterate one less\n",
    "        total_per_si = [oracle(dataset, sens_dataset, base_rule, s_i, mechanism, 0.5 * epsilon, delta) for s_i in S[:-1]]\n",
    "        total_per_si.append(len(sens_dataset) - sum(total_per_si))\n",
    "        \n",
    "    total_per_si = np.array(total_per_si)\n",
    "    \n",
    "    for rule in pos_ruleset:\n",
    "        # for each rule we find the distribution of sensitive attributes\n",
    "        rule_counts = np.zeros(len(S))\n",
    "        rule_total = len(sens_dataset[pd.eval(rule, engine='python')])\n",
    "        \n",
    "        if histogram:\n",
    "            for i, s_i in enumerate(S):\n",
    "                # because the queries are disjoint, epsilon remains equal across queries\n",
    "                rule_counts[i] += round(oracle(dataset, sens_dataset, rule, s_i, mechanism, 0.5 * epsilon, delta))\n",
    "        \n",
    "        else:\n",
    "        # we can calculate the last count ourselves so we iterate one less\n",
    "            for i, s_i in enumerate(S[:-1]):\n",
    "                # because the queries are disjoint, epsilon remains equal across queries\n",
    "                rule_counts[i] += round(oracle(dataset, sens_dataset, rule, s_i, mechanism, 0.5 * epsilon, delta))\n",
    "            \n",
    "            rule_counts[-1] += rule_total - np.sum(rule_counts[:-1])\n",
    "        \n",
    "        # the distribution for the current rule is added to the total\n",
    "        poscounts_per_si += rule_counts\n",
    "    \n",
    "    # calculate and return sp, avoid div by 0 error by omitting those \n",
    "    return np.min(poscounts_per_si[total_per_si != 0] / total_per_si[total_per_si != 0]) / np.max(poscounts_per_si[total_per_si != 0] / total_per_si[total_per_si != 0])\n"
   ]
  },
  {
   "cell_type": "markdown",
   "id": "69632ce9",
   "metadata": {},
   "source": [
    "## PAFER experiments"
   ]
  },
  {
   "cell_type": "code",
   "execution_count": null,
   "id": "3a26e0b1",
   "metadata": {
    "tags": []
   },
   "outputs": [],
   "source": [
    "def experiment(ruleset, tree, dataset, sens_dataset, epsilon, \n",
    "               delta=0.0001, mechanisms=[\"exponential\", \"gaussian\", \"laplacian\"], runs=10, histogram=False, combined=False):\n",
    "    \"\"\"Compares average Statistical Parity Error for different mechanisms\n",
    "    \n",
    "    Args:\n",
    "        ruleset: The rules that represent a rule based decision system.\n",
    "        rule_pred: The predictions that the ruleset has made for the dataset.\n",
    "        dataset: The DataFrame that the developers own that does not contain sensitive feature values.\n",
    "        sens_dataset: The Series that contains the sensitive features, which the developers do not own.\n",
    "        epsilon: The privacy budget for the privacy mechanism. Should be larger than 0.\n",
    "        delta: The privacy margin. Ignored when mechanism is either laplacian or gaussian. Should be in (0, 1].\n",
    "        mechanisms: The list of mechanisms you want to compare. \n",
    "            Should be a subset of {\"exponential\", \"gaussian\", \"laplacian\", \"None\"}.\n",
    "        runs: The number of times to perform the experiment, fewer runs will result in less reliable outcomes. \n",
    "        \n",
    "    Returns:\n",
    "        A numpy array that contains the absolute difference between the actual sp and the estimated sp. \n",
    "    \"\"\"\n",
    "    \n",
    "    pos_rules = positive_rules(tree, ruleset)\n",
    "    if combined:\n",
    "        pos_rules = [\" | \".join(rule for rule in pos_rules)]\n",
    "        \n",
    "    actual_sp = statistical_parity(tree.predict(dataset), sens_dataset)\n",
    "    errors = np.zeros((runs, len(mechanisms)))\n",
    "    S = sens_dataset.value_counts(sort=False).index\n",
    "    \n",
    "    for row in range(runs):\n",
    "        for col, mechanism in enumerate(mechanisms):\n",
    "            errors[row, col] = abs(estimate_sp(pos_rules, dataset, sens_dataset, S, mechanism, epsilon, delta, histogram=histogram) - actual_sp)\n",
    "            \n",
    "    return errors\n"
   ]
  },
  {
   "cell_type": "code",
   "execution_count": null,
   "id": "61d990ee-b03c-4102-a6cd-097993951333",
   "metadata": {
    "tags": []
   },
   "outputs": [],
   "source": [
    "print(adult_train_sex.value_counts())\n",
    "\n",
    "experiment(rules, best_tree, adult_test_cat_X, adult_test_race, \n",
    "           epsilon=0.7, delta=0.0001, mechanisms=['laplacian'], runs=2, histogram=True)"
   ]
  },
  {
   "cell_type": "code",
   "execution_count": null,
   "id": "78905576",
   "metadata": {
    "tags": []
   },
   "outputs": [],
   "source": [
    "epsilons = np.linspace(0.01, 0.5, 40)\n",
    "runs = 50\n",
    "\n",
    "laplace_errs_hist, exp_errs_hist = [], []\n",
    "laplace_uncert_hist, exp_uncert_hist = [], []\n",
    "for epsilon in tqdm(epsilons):\n",
    "    sp_errs = experiment(rules, best_tree.predict(adult_test_cat_X), adult_test_cat_X,\n",
    "                         adult_test_sex, epsilon=epsilon, runs=runs, mechanisms=[\"laplacian\", \"exponential\"], histogram=True)\n",
    "    \n",
    "    avg_errs = np.mean(sp_errs, axis=0)\n",
    "    std_errs = np.std(sp_errs, ddof=1, axis=0)\n",
    "    uncertainty = std_errs / np.sqrt(runs)\n",
    "    \n",
    "    laplace_errs_hist.append(avg_errs[0])\n",
    "    exp_errs_hist.append(avg_errs[1])\n",
    "    laplace_uncert_hist.append(uncertainty[0])\n",
    "    exp_uncert_hist.append(uncertainty[1])\n",
    "    "
   ]
  },
  {
   "cell_type": "code",
   "execution_count": null,
   "id": "a1b3581c",
   "metadata": {
    "tags": []
   },
   "outputs": [],
   "source": [
    "laplace_errs_hist = np.array(laplace_errs_hist)\n",
    "exp_errs_hist = np.array(exp_errs_hist)\n",
    "laplace_uncert_hist = np.array(laplace_uncert_hist)\n",
    "exp_uncert_hist = np.array(exp_uncert_hist)\n",
    "\n",
    "for arr, name in zip([laplace_errs_hist, exp_errs_hist, laplace_uncert_hist, exp_uncert_hist], [\"laplace_errs\", \"exp_errs\", \"laplace_uncert\", \"exp_uncert\"]):\n",
    "    with open(f\"adult-sex-{name}\", \"wb\") as f:\n",
    "        np.save(f, arr)"
   ]
  },
  {
   "cell_type": "code",
   "execution_count": null,
   "id": "d4d9d6d3",
   "metadata": {
    "tags": []
   },
   "outputs": [],
   "source": [
    "epsilons = np.linspace(0.01, 0.5, 40)\n",
    "runs = 50\n",
    "\n",
    "laplace_errs_hist, exp_errs_hist = [], []\n",
    "laplace_uncert_hist, exp_uncert_hist = [], []\n",
    "for epsilon in tqdm(epsilons):\n",
    "    sp_errs = experiment(rules, best_tree.predict(adult_test_cat_X), adult_test_cat_X,\n",
    "                         adult_test_race, epsilon=epsilon, runs=runs, mechanisms=[\"laplacian\", \"exponential\"], histogram=True)\n",
    "    \n",
    "    avg_errs = np.mean(sp_errs, axis=0)\n",
    "    std_errs = np.std(sp_errs, ddof=1, axis=0)\n",
    "    uncertainty = std_errs / np.sqrt(runs)\n",
    "    \n",
    "    laplace_errs_hist.append(avg_errs[0])\n",
    "    exp_errs_hist.append(avg_errs[1])\n",
    "    laplace_uncert_hist.append(uncertainty[0])\n",
    "    exp_uncert_hist.append(uncertainty[1])\n",
    "    "
   ]
  },
  {
   "cell_type": "code",
   "execution_count": null,
   "id": "eb672a46",
   "metadata": {
    "tags": []
   },
   "outputs": [],
   "source": [
    "laplace_errs_hist = np.array(laplace_errs_hist)\n",
    "exp_errs_hist = np.array(exp_errs_hist)\n",
    "laplace_uncert_hist = np.array(laplace_uncert_hist)\n",
    "exp_uncert_hist = np.array(exp_uncert_hist)\n",
    "\n",
    "for arr, name in zip([laplace_errs_hist, exp_errs_hist, laplace_uncert_hist, exp_uncert_hist], [\"laplace_errs\", \"exp_errs\", \"laplace_uncert\", \"exp_uncert\"]):\n",
    "    with open(f\"adult-race-{name}\", \"wb\") as f:\n",
    "        np.save(f, arr)"
   ]
  },
  {
   "cell_type": "markdown",
   "id": "baa98bd7-9d2d-419b-83fb-091787d3e0c8",
   "metadata": {},
   "source": [
    "## Experiments for combined queries"
   ]
  },
  {
   "cell_type": "code",
   "execution_count": 43,
   "id": "19374b09",
   "metadata": {
    "tags": []
   },
   "outputs": [
    {
     "data": {
      "image/png": "[encoded data removed]",
      "text/plain": [
       "<Figure size 432x288 with 1 Axes>"
      ]
     },
     "metadata": {
      "needs_background": "light"
     },
     "output_type": "display_data"
    }
   ],
   "source": [
    "laplace_errs_combined = np.array(laplace_errs_combined)\n",
    "exp_errs_combined = np.array(exp_errs_combined)\n",
    "laplace_uncert_combined = np.array(laplace_uncert_combined)\n",
    "exp_uncert_combined = np.array(exp_uncert_combined)\n",
    "\n",
    "plt.plot(epsilons, laplace_errs_combined, label=\"Laplacian\")\n",
    "plt.fill_between(epsilons, laplace_errs_combined + laplace_uncert_combined, laplace_errs_combined - laplace_uncert_combined, alpha=0.2)\n",
    "plt.plot(epsilons, exp_errs_combined, label=\"Exponential\")\n",
    "plt.fill_between(epsilons, exp_errs_combined + exp_uncert_combined, exp_errs_combined - exp_uncert_combined, alpha=0.2)\n",
    "plt.legend()\n",
    "plt.title(\"Comparison of DP mechanisms for different epsilons based on average SP with combined query\")\n",
    "plt.ylabel(\"Average SP error\")\n",
    "plt.xlabel(\"Privacy budget $\\epsilon$\")\n",
    "plt.savefig(fname=f\"adult-sex-mechcomp-combined-{datetime.now():%Y-%m-%d-%H_%M_%S}-{runs}.png\", dpi=800)\n",
    "plt.show()"
   ]
  },
  {
   "cell_type": "code",
   "execution_count": 45,
   "id": "a15e28ef",
   "metadata": {
    "tags": []
   },
   "outputs": [
    {
     "data": {
      "text/plain": [
       "Ttest_indResult(statistic=-1.081721182881144, pvalue=0.28233181636977883)"
      ]
     },
     "execution_count": 45,
     "metadata": {},
     "output_type": "execute_result"
    }
   ],
   "source": [
    "ttest_ind(laplace_errs_combined, laplace_errs_hist)"
   ]
  },
  {
   "cell_type": "code",
   "execution_count": 46,
   "id": "2c7a4665",
   "metadata": {
    "tags": []
   },
   "outputs": [
    {
     "data": {
      "text/plain": [
       "Ttest_indResult(statistic=-4.024204161465003, pvalue=0.00012068738952316042)"
      ]
     },
     "execution_count": 46,
     "metadata": {},
     "output_type": "execute_result"
    }
   ],
   "source": [
    "ttest_ind(exp_errs_combined, exp_errs_hist)"
   ]
  },
  {
   "cell_type": "code",
   "execution_count": 34,
   "id": "0e29779e",
   "metadata": {},
   "outputs": [
    {
     "name": "stderr",
     "output_type": "stream",
     "text": [
      "100%|███████████████████████████████████████████████████████████████████████████████| 40/40 [2:29:06<00:00, 223.67s/it]\n"
     ]
    }
   ],
   "source": [
    "epsilons = np.linspace(0.01, 0.5, 40)\n",
    "runs = 50\n",
    "\n",
    "laplace_errs_hist_inter, exp_errs_hist_inter = [], []\n",
    "laplace_uncert_hist_inter, exp_uncert_hist_inter = [], []\n",
    "for epsilon in tqdm(epsilons):\n",
    "    sp_errs = experiment(rules, best_tree.predict(adult_test_cat_X), adult_test_cat_X,\n",
    "                         adult_test_sex_race, epsilon=epsilon, runs=runs, mechanisms=[\"laplacian\", \"exponential\"], histogram=True, combined=False)\n",
    "    \n",
    "    avg_errs = np.mean(sp_errs, axis=0)\n",
    "    std_errs = np.std(sp_errs, ddof=1, axis=0)\n",
    "    uncertainty = std_errs / np.sqrt(runs)\n",
    "    \n",
    "    laplace_errs_hist_inter.append(avg_errs[0])\n",
    "    exp_errs_hist_inter.append(avg_errs[1])\n",
    "    laplace_uncert_hist_inter.append(uncertainty[0])\n",
    "    exp_uncert_hist_inter.append(uncertainty[1])\n",
    "    "
   ]
  },
  {
   "cell_type": "code",
   "execution_count": 35,
   "id": "f89a9c06",
   "metadata": {},
   "outputs": [],
   "source": [
    "laplace_errs_hist_inter = np.array(laplace_errs_hist_inter)\n",
    "exp_errs_hist_inter = np.array(exp_errs_hist_inter)\n",
    "laplace_uncert_hist_inter = np.array(laplace_uncert_hist_inter)\n",
    "exp_uncert_hist_inter = np.array(exp_uncert_hist_inter)\n",
    "\n",
    "for arr, name in zip([laplace_errs_hist_inter, exp_errs_hist_inter, laplace_uncert_hist_inter, exp_uncert_hist_inter], [\"laplace_errs\", \"exp_errs\", \"laplace_uncert\", \"exp_uncert\"]):\n",
    "    with open(f\"adult-sexrace-{name}\", \"wb\") as f:\n",
    "        np.save(f, arr)"
   ]
  },
  {
   "cell_type": "code",
   "execution_count": 52,
   "id": "2a9d15aa",
   "metadata": {},
   "outputs": [
    {
     "data": {
      "image/png": "[encoded data removed]",
      "text/plain": [
       "<Figure size 432x288 with 1 Axes>"
      ]
     },
     "metadata": {
      "needs_background": "light"
     },
     "output_type": "display_data"
    }
   ],
   "source": [
    "\n",
    "\n",
    "plt.plot(epsilons, laplace_errs_hist_inter, label=\"Laplacian\")\n",
    "plt.fill_between(epsilons, laplace_errs_hist_inter + laplace_uncert_hist_inter, laplace_errs_hist_inter - laplace_uncert_hist_inter, alpha=0.2)\n",
    "plt.plot(epsilons, exp_errs_hist_inter, label=\"Exponential\")\n",
    "plt.fill_between(epsilons, exp_errs_hist_inter + exp_uncert_hist_inter, exp_errs_hist_inter - exp_uncert_hist_inter, alpha=0.2)\n",
    "plt.legend()\n",
    "plt.title(\"Comparison of DP mechanisms for different epsilons based on average SP\")\n",
    "plt.ylabel(\"Average SP error\")\n",
    "plt.xlabel(\"Privacy budget $\\epsilon$\")\n",
    "plt.savefig(fname=f\"adult-sexrace-mechcomp-{datetime.now():%Y-%m-%d-%H_%M_%S}-{runs}.png\", dpi=800)\n",
    "plt.show()"
   ]
  },
  {
   "cell_type": "code",
   "execution_count": 53,
   "id": "7aaf741b",
   "metadata": {},
   "outputs": [
    {
     "name": "stderr",
     "output_type": "stream",
     "text": [
      " 36%|████████████████████████████                                                   | 16/45 [56:31<1:41:44, 210.51s/it]divide by zero encountered in true_divide\n",
      " 78%|█████████████████████████████████████████████████████████████▍                 | 35/45 [2:03:20<35:08, 210.85s/it]divide by zero encountered in true_divide\n",
      "100%|███████████████████████████████████████████████████████████████████████████████| 45/45 [2:38:25<00:00, 211.22s/it]\n"
     ]
    }
   ],
   "source": [
    "epsilons = np.linspace(0.01, 1, 45)\n",
    "runs = 50\n",
    "\n",
    "laplace_errs_combined_inter, exp_errs_combined_inter = [], []\n",
    "laplace_uncert_combined_inter, exp_uncert_combined_inter = [], []\n",
    "for epsilon in tqdm(epsilons):\n",
    "    sp_errs = experiment(rules, best_tree.predict(adult_test_cat_X), adult_test_cat_X,\n",
    "                         adult_test_sex_race, epsilon=epsilon, runs=runs, mechanisms=[\"laplacian\", \"exponential\"], histogram=True, combined=True)\n",
    "    \n",
    "    avg_errs = np.mean(sp_errs, axis=0)\n",
    "    std_errs = np.std(sp_errs, ddof=1, axis=0)\n",
    "    uncertainty = std_errs / np.sqrt(runs)\n",
    "    \n",
    "    laplace_errs_combined_inter.append(avg_errs[0])\n",
    "    exp_errs_combined_inter.append(avg_errs[1])\n",
    "    laplace_uncert_combined_inter.append(uncertainty[0])\n",
    "    exp_uncert_combined_inter.append(uncertainty[1])\n",
    "    "
   ]
  },
  {
   "cell_type": "code",
   "execution_count": 54,
   "id": "de61053a",
   "metadata": {},
   "outputs": [
    {
     "data": {
      "image/png": "[encoded data removed]",
      "text/plain": [
       "<Figure size 432x288 with 1 Axes>"
      ]
     },
     "metadata": {
      "needs_background": "light"
     },
     "output_type": "display_data"
    }
   ],
   "source": [
    "laplace_errs_combined_inter = np.array(laplace_errs_combined_inter)\n",
    "exp_errs_combined_inter = np.array(exp_errs_combined_inter)\n",
    "laplace_uncert_combined_inter = np.array(laplace_uncert_combined_inter)\n",
    "exp_uncert_combined_inter = np.array(exp_uncert_combined_inter)\n",
    "\n",
    "plt.plot(epsilons, laplace_errs_combined_inter, label=\"Laplacian\")\n",
    "plt.fill_between(epsilons, laplace_errs_combined_inter + laplace_uncert_combined_inter, laplace_errs_combined_inter - laplace_uncert_combined_inter, alpha=0.2)\n",
    "plt.plot(epsilons, exp_errs_combined_inter, label=\"Exponential\")\n",
    "plt.fill_between(epsilons, exp_errs_combined_inter + exp_uncert_combined_inter, exp_errs_combined_inter - exp_uncert_combined_inter, alpha=0.2)\n",
    "plt.legend()\n",
    "plt.title(\"Comparison of DP mechanisms for different epsilons based on average SP\")\n",
    "plt.ylabel(\"Average SP error\")\n",
    "plt.xlabel(\"Privacy budget $\\epsilon$\")\n",
    "plt.savefig(fname=f\"adult-sexrace-mechcomp-combined-{datetime.now():%Y-%m-%d-%H_%M_%S}-{runs}.png\", dpi=800)\n",
    "plt.show()"
   ]
  },
  {
   "cell_type": "code",
   "execution_count": 3,
   "id": "f14c7726",
   "metadata": {},
   "outputs": [
    {
     "data": {
      "text/plain": [
       "array([], dtype=float64)"
      ]
     },
     "execution_count": 3,
     "metadata": {},
     "output_type": "execute_result"
    }
   ],
   "source": [
    "np.array([]) / np.array([])"
   ]
  },
  {
   "cell_type": "code",
   "execution_count": null,
   "id": "8f3f23ef",
   "metadata": {},
   "outputs": [],
   "source": []
  }
 ],
 "metadata": {
  "kernelspec": {
   "display_name": "Python 3 (ipykernel)",
   "language": "python",
   "name": "python3"
  },
  "language_info": {
   "codemirror_mode": {
    "name": "ipython",
    "version": 3
   },
   "file_extension": ".py",
   "mimetype": "text/x-python",
   "name": "python",
   "nbconvert_exporter": "python",
   "pygments_lexer": "ipython3",
   "version": "3.11.0"
  }
 },
 "nbformat": 4,
 "nbformat_minor": 5
}
