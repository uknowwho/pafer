{
 "cells": [
  {
   "cell_type": "code",
   "execution_count": 719,
   "id": "1ea8430f-9181-4fda-8ff9-641d4f145d48",
   "metadata": {
    "tags": []
   },
   "outputs": [],
   "source": [
    "import itertools\n",
    "\n",
    "import numpy as np\n",
    "import pandas as pd\n",
    "import matplotlib.pyplot as plt\n",
    "from sklearn.tree import DecisionTreeClassifier, plot_tree, export_text\n",
    "from sklearn.metrics import confusion_matrix, ConfusionMatrixDisplay, balanced_accuracy_score, roc_auc_score\n",
    "from sklearn.model_selection import GridSearchCV\n",
    "from scipy.stats import ttest_ind"
   ]
  },
  {
   "cell_type": "code",
   "execution_count": 662,
   "id": "c9b1b987-7c23-4ddf-a8a0-5244a6cdbdeb",
   "metadata": {
    "tags": []
   },
   "outputs": [],
   "source": [
    "adult_train = pd.read_csv(\"adult.data\", sep=',\\s+', engine='python')\n",
    "adult_test = pd.read_csv(\"adult.test\", sep=',\\s+', engine='python')"
   ]
  },
  {
   "cell_type": "code",
   "execution_count": 663,
   "id": "a705cc82-cee2-433e-85b6-fb96d1254866",
   "metadata": {
    "tags": []
   },
   "outputs": [
    {
     "data": {
      "text/html": [
       "<div>\n",
       "<style scoped>\n",
       "    .dataframe tbody tr th:only-of-type {\n",
       "        vertical-align: middle;\n",
       "    }\n",
       "\n",
       "    .dataframe tbody tr th {\n",
       "        vertical-align: top;\n",
       "    }\n",
       "\n",
       "    .dataframe thead th {\n",
       "        text-align: right;\n",
       "    }\n",
       "</style>\n",
       "<table border=\"1\" class=\"dataframe\">\n",
       "  <thead>\n",
       "    <tr style=\"text-align: right;\">\n",
       "      <th></th>\n",
       "      <th>age</th>\n",
       "      <th>workclass</th>\n",
       "      <th>fnlwgt</th>\n",
       "      <th>education</th>\n",
       "      <th>education-num</th>\n",
       "      <th>marital-status</th>\n",
       "      <th>occupation</th>\n",
       "      <th>relationship</th>\n",
       "      <th>race</th>\n",
       "      <th>sex</th>\n",
       "      <th>capital-gain</th>\n",
       "      <th>capital-loss</th>\n",
       "      <th>hours-per-week</th>\n",
       "      <th>native-country</th>\n",
       "      <th>outcome</th>\n",
       "    </tr>\n",
       "  </thead>\n",
       "  <tbody>\n",
       "    <tr>\n",
       "      <th>0</th>\n",
       "      <td>39</td>\n",
       "      <td>State-gov</td>\n",
       "      <td>77516</td>\n",
       "      <td>Bachelors</td>\n",
       "      <td>13</td>\n",
       "      <td>Never-married</td>\n",
       "      <td>Adm-clerical</td>\n",
       "      <td>Not-in-family</td>\n",
       "      <td>White</td>\n",
       "      <td>Male</td>\n",
       "      <td>2174</td>\n",
       "      <td>0</td>\n",
       "      <td>40</td>\n",
       "      <td>United-States</td>\n",
       "      <td>&lt;=50K</td>\n",
       "    </tr>\n",
       "    <tr>\n",
       "      <th>1</th>\n",
       "      <td>50</td>\n",
       "      <td>Self-emp-not-inc</td>\n",
       "      <td>83311</td>\n",
       "      <td>Bachelors</td>\n",
       "      <td>13</td>\n",
       "      <td>Married-civ-spouse</td>\n",
       "      <td>Exec-managerial</td>\n",
       "      <td>Husband</td>\n",
       "      <td>White</td>\n",
       "      <td>Male</td>\n",
       "      <td>0</td>\n",
       "      <td>0</td>\n",
       "      <td>13</td>\n",
       "      <td>United-States</td>\n",
       "      <td>&lt;=50K</td>\n",
       "    </tr>\n",
       "    <tr>\n",
       "      <th>2</th>\n",
       "      <td>38</td>\n",
       "      <td>Private</td>\n",
       "      <td>215646</td>\n",
       "      <td>HS-grad</td>\n",
       "      <td>9</td>\n",
       "      <td>Divorced</td>\n",
       "      <td>Handlers-cleaners</td>\n",
       "      <td>Not-in-family</td>\n",
       "      <td>White</td>\n",
       "      <td>Male</td>\n",
       "      <td>0</td>\n",
       "      <td>0</td>\n",
       "      <td>40</td>\n",
       "      <td>United-States</td>\n",
       "      <td>&lt;=50K</td>\n",
       "    </tr>\n",
       "    <tr>\n",
       "      <th>3</th>\n",
       "      <td>53</td>\n",
       "      <td>Private</td>\n",
       "      <td>234721</td>\n",
       "      <td>11th</td>\n",
       "      <td>7</td>\n",
       "      <td>Married-civ-spouse</td>\n",
       "      <td>Handlers-cleaners</td>\n",
       "      <td>Husband</td>\n",
       "      <td>Black</td>\n",
       "      <td>Male</td>\n",
       "      <td>0</td>\n",
       "      <td>0</td>\n",
       "      <td>40</td>\n",
       "      <td>United-States</td>\n",
       "      <td>&lt;=50K</td>\n",
       "    </tr>\n",
       "    <tr>\n",
       "      <th>4</th>\n",
       "      <td>28</td>\n",
       "      <td>Private</td>\n",
       "      <td>338409</td>\n",
       "      <td>Bachelors</td>\n",
       "      <td>13</td>\n",
       "      <td>Married-civ-spouse</td>\n",
       "      <td>Prof-specialty</td>\n",
       "      <td>Wife</td>\n",
       "      <td>Black</td>\n",
       "      <td>Female</td>\n",
       "      <td>0</td>\n",
       "      <td>0</td>\n",
       "      <td>40</td>\n",
       "      <td>Cuba</td>\n",
       "      <td>&lt;=50K</td>\n",
       "    </tr>\n",
       "    <tr>\n",
       "      <th>...</th>\n",
       "      <td>...</td>\n",
       "      <td>...</td>\n",
       "      <td>...</td>\n",
       "      <td>...</td>\n",
       "      <td>...</td>\n",
       "      <td>...</td>\n",
       "      <td>...</td>\n",
       "      <td>...</td>\n",
       "      <td>...</td>\n",
       "      <td>...</td>\n",
       "      <td>...</td>\n",
       "      <td>...</td>\n",
       "      <td>...</td>\n",
       "      <td>...</td>\n",
       "      <td>...</td>\n",
       "    </tr>\n",
       "    <tr>\n",
       "      <th>32556</th>\n",
       "      <td>27</td>\n",
       "      <td>Private</td>\n",
       "      <td>257302</td>\n",
       "      <td>Assoc-acdm</td>\n",
       "      <td>12</td>\n",
       "      <td>Married-civ-spouse</td>\n",
       "      <td>Tech-support</td>\n",
       "      <td>Wife</td>\n",
       "      <td>White</td>\n",
       "      <td>Female</td>\n",
       "      <td>0</td>\n",
       "      <td>0</td>\n",
       "      <td>38</td>\n",
       "      <td>United-States</td>\n",
       "      <td>&lt;=50K</td>\n",
       "    </tr>\n",
       "    <tr>\n",
       "      <th>32557</th>\n",
       "      <td>40</td>\n",
       "      <td>Private</td>\n",
       "      <td>154374</td>\n",
       "      <td>HS-grad</td>\n",
       "      <td>9</td>\n",
       "      <td>Married-civ-spouse</td>\n",
       "      <td>Machine-op-inspct</td>\n",
       "      <td>Husband</td>\n",
       "      <td>White</td>\n",
       "      <td>Male</td>\n",
       "      <td>0</td>\n",
       "      <td>0</td>\n",
       "      <td>40</td>\n",
       "      <td>United-States</td>\n",
       "      <td>&gt;50K</td>\n",
       "    </tr>\n",
       "    <tr>\n",
       "      <th>32558</th>\n",
       "      <td>58</td>\n",
       "      <td>Private</td>\n",
       "      <td>151910</td>\n",
       "      <td>HS-grad</td>\n",
       "      <td>9</td>\n",
       "      <td>Widowed</td>\n",
       "      <td>Adm-clerical</td>\n",
       "      <td>Unmarried</td>\n",
       "      <td>White</td>\n",
       "      <td>Female</td>\n",
       "      <td>0</td>\n",
       "      <td>0</td>\n",
       "      <td>40</td>\n",
       "      <td>United-States</td>\n",
       "      <td>&lt;=50K</td>\n",
       "    </tr>\n",
       "    <tr>\n",
       "      <th>32559</th>\n",
       "      <td>22</td>\n",
       "      <td>Private</td>\n",
       "      <td>201490</td>\n",
       "      <td>HS-grad</td>\n",
       "      <td>9</td>\n",
       "      <td>Never-married</td>\n",
       "      <td>Adm-clerical</td>\n",
       "      <td>Own-child</td>\n",
       "      <td>White</td>\n",
       "      <td>Male</td>\n",
       "      <td>0</td>\n",
       "      <td>0</td>\n",
       "      <td>20</td>\n",
       "      <td>United-States</td>\n",
       "      <td>&lt;=50K</td>\n",
       "    </tr>\n",
       "    <tr>\n",
       "      <th>32560</th>\n",
       "      <td>52</td>\n",
       "      <td>Self-emp-inc</td>\n",
       "      <td>287927</td>\n",
       "      <td>HS-grad</td>\n",
       "      <td>9</td>\n",
       "      <td>Married-civ-spouse</td>\n",
       "      <td>Exec-managerial</td>\n",
       "      <td>Wife</td>\n",
       "      <td>White</td>\n",
       "      <td>Female</td>\n",
       "      <td>15024</td>\n",
       "      <td>0</td>\n",
       "      <td>40</td>\n",
       "      <td>United-States</td>\n",
       "      <td>&gt;50K</td>\n",
       "    </tr>\n",
       "  </tbody>\n",
       "</table>\n",
       "<p>32561 rows × 15 columns</p>\n",
       "</div>"
      ],
      "text/plain": [
       "       age         workclass  fnlwgt   education  education-num  \\\n",
       "0       39         State-gov   77516   Bachelors             13   \n",
       "1       50  Self-emp-not-inc   83311   Bachelors             13   \n",
       "2       38           Private  215646     HS-grad              9   \n",
       "3       53           Private  234721        11th              7   \n",
       "4       28           Private  338409   Bachelors             13   \n",
       "...    ...               ...     ...         ...            ...   \n",
       "32556   27           Private  257302  Assoc-acdm             12   \n",
       "32557   40           Private  154374     HS-grad              9   \n",
       "32558   58           Private  151910     HS-grad              9   \n",
       "32559   22           Private  201490     HS-grad              9   \n",
       "32560   52      Self-emp-inc  287927     HS-grad              9   \n",
       "\n",
       "           marital-status         occupation   relationship   race     sex  \\\n",
       "0           Never-married       Adm-clerical  Not-in-family  White    Male   \n",
       "1      Married-civ-spouse    Exec-managerial        Husband  White    Male   \n",
       "2                Divorced  Handlers-cleaners  Not-in-family  White    Male   \n",
       "3      Married-civ-spouse  Handlers-cleaners        Husband  Black    Male   \n",
       "4      Married-civ-spouse     Prof-specialty           Wife  Black  Female   \n",
       "...                   ...                ...            ...    ...     ...   \n",
       "32556  Married-civ-spouse       Tech-support           Wife  White  Female   \n",
       "32557  Married-civ-spouse  Machine-op-inspct        Husband  White    Male   \n",
       "32558             Widowed       Adm-clerical      Unmarried  White  Female   \n",
       "32559       Never-married       Adm-clerical      Own-child  White    Male   \n",
       "32560  Married-civ-spouse    Exec-managerial           Wife  White  Female   \n",
       "\n",
       "       capital-gain  capital-loss  hours-per-week native-country outcome  \n",
       "0              2174             0              40  United-States   <=50K  \n",
       "1                 0             0              13  United-States   <=50K  \n",
       "2                 0             0              40  United-States   <=50K  \n",
       "3                 0             0              40  United-States   <=50K  \n",
       "4                 0             0              40           Cuba   <=50K  \n",
       "...             ...           ...             ...            ...     ...  \n",
       "32556             0             0              38  United-States   <=50K  \n",
       "32557             0             0              40  United-States    >50K  \n",
       "32558             0             0              40  United-States   <=50K  \n",
       "32559             0             0              20  United-States   <=50K  \n",
       "32560         15024             0              40  United-States    >50K  \n",
       "\n",
       "[32561 rows x 15 columns]"
      ]
     },
     "execution_count": 663,
     "metadata": {},
     "output_type": "execute_result"
    }
   ],
   "source": [
    "adult_train"
   ]
  },
  {
   "cell_type": "code",
   "execution_count": 664,
   "id": "fdfa66dc-f5e4-4e9f-8736-a4ddecd7a7f5",
   "metadata": {
    "tags": []
   },
   "outputs": [],
   "source": [
    "# drop incomplete instances, contain ? values\n",
    "adult_test = adult_test[(adult_test != '?').all(1)]\n",
    "adult_train = adult_train[(adult_train != '?').all(1)]\n",
    "\n",
    "# drop fnlwgt column, which is uninformational and might cause overfitting\n",
    "adult_test = adult_test.drop(columns=[\"fnlwgt\"])\n",
    "adult_train = adult_train.drop(columns=[\"fnlwgt\"])"
   ]
  },
  {
   "cell_type": "code",
   "execution_count": 665,
   "id": "34e5f6b6-bc4d-44ed-9e4a-1ae365d3a71b",
   "metadata": {
    "tags": []
   },
   "outputs": [],
   "source": [
    "# separate labels\n",
    "adult_test_y = adult_test['outcome']\n",
    "adult_test_X = adult_test.loc[:, adult_test.columns != 'outcome']\n",
    "adult_train_y = adult_train['outcome']\n",
    "adult_train_X = adult_train.loc[:, adult_train.columns != 'outcome']"
   ]
  },
  {
   "cell_type": "code",
   "execution_count": 666,
   "id": "6d779c5c-7446-40db-a847-6f50bbcfaa6f",
   "metadata": {
    "tags": []
   },
   "outputs": [],
   "source": [
    "# transform labels to 0 and 1, above 50k is favorable outcome\n",
    "adult_test_y = adult_test_y.map({'<=50K.': 0, '>50K.': 1})\n",
    "adult_train_y = adult_train_y.map({'<=50K': 0, '>50K': 1})\n",
    "\n",
    "# transform dataframes into numpy arrays\n",
    "# adult_test_y = adult_test_y.to_numpy()\n",
    "# adult_test_X = adult_test_X.to_numpy()\n",
    "# adult_train_y = adult_train_y.to_numpy()\n",
    "# adult_train_X = adult_train_X.to_numpy()"
   ]
  },
  {
   "cell_type": "code",
   "execution_count": 667,
   "id": "f585010e-1cf2-444e-a167-c79d09d7e20b",
   "metadata": {
    "tags": []
   },
   "outputs": [],
   "source": [
    "# remove race and sex from model data\n",
    "adult_train_sex = adult_train_X[\"sex\"]\n",
    "adult_test_sex = adult_test_X[\"sex\"]\n",
    "adult_train_race = adult_train_X[\"race\"]\n",
    "adult_test_race = adult_test_X[\"race\"]\n",
    "adult_train_nc = adult_train_X[\"native-country\"]\n",
    "adult_test_nc = adult_test_X[\"native-country\"]\n",
    "adult_train_X = adult_train_X.drop(columns=[\"race\", \"sex\", \"native-country\"])\n",
    "adult_test_X = adult_test_X.drop(columns=[\"race\", \"sex\", \"native-country\"])"
   ]
  },
  {
   "cell_type": "code",
   "execution_count": 668,
   "id": "b131d54c-0baf-45a5-854e-bbdfb6cc527b",
   "metadata": {
    "tags": []
   },
   "outputs": [],
   "source": [
    "# convert to one-hot encoding\n",
    "adult_train_cat_X = pd.get_dummies(adult_train_X)\n",
    "adult_test_cat_X = pd.get_dummies(adult_test_X)\n",
    "\n",
    "# align NL origin column between train and testset\n",
    "# temp = adult_train_cat_X[\"native-country_Holand-Netherlands\"]\n",
    "# adult_train_cat_X = adult_train_cat_X.loc[:, adult_train_cat_X.columns != 'native-country_Holand-Netherlands']\n",
    "# adult_train_cat_X[\"native-country_Holand-Netherlands\"] = temp\n",
    "# adult_test_cat_X[\"native-country_Holand-Netherlands\"] = 0"
   ]
  },
  {
   "cell_type": "code",
   "execution_count": 669,
   "id": "0d8be802-6285-431b-bbbf-969619818af1",
   "metadata": {
    "tags": []
   },
   "outputs": [
    {
     "name": "stdout",
     "output_type": "stream",
     "text": [
      "Fitting 3 folds for each of 90 candidates, totalling 270 fits\n"
     ]
    },
    {
     "data": {
      "text/html": [
       "<style>#sk-container-id-20 {color: black;background-color: white;}#sk-container-id-20 pre{padding: 0;}#sk-container-id-20 div.sk-toggleable {background-color: white;}#sk-container-id-20 label.sk-toggleable__label {cursor: pointer;display: block;width: 100%;margin-bottom: 0;padding: 0.3em;box-sizing: border-box;text-align: center;}#sk-container-id-20 label.sk-toggleable__label-arrow:before {content: \"▸\";float: left;margin-right: 0.25em;color: #696969;}#sk-container-id-20 label.sk-toggleable__label-arrow:hover:before {color: black;}#sk-container-id-20 div.sk-estimator:hover label.sk-toggleable__label-arrow:before {color: black;}#sk-container-id-20 div.sk-toggleable__content {max-height: 0;max-width: 0;overflow: hidden;text-align: left;background-color: #f0f8ff;}#sk-container-id-20 div.sk-toggleable__content pre {margin: 0.2em;color: black;border-radius: 0.25em;background-color: #f0f8ff;}#sk-container-id-20 input.sk-toggleable__control:checked~div.sk-toggleable__content {max-height: 200px;max-width: 100%;overflow: auto;}#sk-container-id-20 input.sk-toggleable__control:checked~label.sk-toggleable__label-arrow:before {content: \"▾\";}#sk-container-id-20 div.sk-estimator input.sk-toggleable__control:checked~label.sk-toggleable__label {background-color: #d4ebff;}#sk-container-id-20 div.sk-label input.sk-toggleable__control:checked~label.sk-toggleable__label {background-color: #d4ebff;}#sk-container-id-20 input.sk-hidden--visually {border: 0;clip: rect(1px 1px 1px 1px);clip: rect(1px, 1px, 1px, 1px);height: 1px;margin: -1px;overflow: hidden;padding: 0;position: absolute;width: 1px;}#sk-container-id-20 div.sk-estimator {font-family: monospace;background-color: #f0f8ff;border: 1px dotted black;border-radius: 0.25em;box-sizing: border-box;margin-bottom: 0.5em;}#sk-container-id-20 div.sk-estimator:hover {background-color: #d4ebff;}#sk-container-id-20 div.sk-parallel-item::after {content: \"\";width: 100%;border-bottom: 1px solid gray;flex-grow: 1;}#sk-container-id-20 div.sk-label:hover label.sk-toggleable__label {background-color: #d4ebff;}#sk-container-id-20 div.sk-serial::before {content: \"\";position: absolute;border-left: 1px solid gray;box-sizing: border-box;top: 0;bottom: 0;left: 50%;z-index: 0;}#sk-container-id-20 div.sk-serial {display: flex;flex-direction: column;align-items: center;background-color: white;padding-right: 0.2em;padding-left: 0.2em;position: relative;}#sk-container-id-20 div.sk-item {position: relative;z-index: 1;}#sk-container-id-20 div.sk-parallel {display: flex;align-items: stretch;justify-content: center;background-color: white;position: relative;}#sk-container-id-20 div.sk-item::before, #sk-container-id-20 div.sk-parallel-item::before {content: \"\";position: absolute;border-left: 1px solid gray;box-sizing: border-box;top: 0;bottom: 0;left: 50%;z-index: -1;}#sk-container-id-20 div.sk-parallel-item {display: flex;flex-direction: column;z-index: 1;position: relative;background-color: white;}#sk-container-id-20 div.sk-parallel-item:first-child::after {align-self: flex-end;width: 50%;}#sk-container-id-20 div.sk-parallel-item:last-child::after {align-self: flex-start;width: 50%;}#sk-container-id-20 div.sk-parallel-item:only-child::after {width: 0;}#sk-container-id-20 div.sk-dashed-wrapped {border: 1px dashed gray;margin: 0 0.4em 0.5em 0.4em;box-sizing: border-box;padding-bottom: 0.4em;background-color: white;}#sk-container-id-20 div.sk-label label {font-family: monospace;font-weight: bold;display: inline-block;line-height: 1.2em;}#sk-container-id-20 div.sk-label-container {text-align: center;}#sk-container-id-20 div.sk-container {/* jupyter's `normalize.less` sets `[hidden] { display: none; }` but bootstrap.min.css set `[hidden] { display: none !important; }` so we also need the `!important` here to be able to override the default hidden behavior on the sphinx rendered scikit-learn.org. See: https://github.com/scikit-learn/scikit-learn/issues/21755 */display: inline-block !important;position: relative;}#sk-container-id-20 div.sk-text-repr-fallback {display: none;}</style><div id=\"sk-container-id-20\" class=\"sk-top-container\"><div class=\"sk-text-repr-fallback\"><pre>DecisionTreeClassifier(criterion=&#x27;entropy&#x27;, max_depth=3, max_leaf_nodes=5,\n",
       "                       random_state=42)</pre><b>In a Jupyter environment, please rerun this cell to show the HTML representation or trust the notebook. <br />On GitHub, the HTML representation is unable to render, please try loading this page with nbviewer.org.</b></div><div class=\"sk-container\" hidden><div class=\"sk-item\"><div class=\"sk-estimator sk-toggleable\"><input class=\"sk-toggleable__control sk-hidden--visually\" id=\"sk-estimator-id-20\" type=\"checkbox\" checked><label for=\"sk-estimator-id-20\" class=\"sk-toggleable__label sk-toggleable__label-arrow\">DecisionTreeClassifier</label><div class=\"sk-toggleable__content\"><pre>DecisionTreeClassifier(criterion=&#x27;entropy&#x27;, max_depth=3, max_leaf_nodes=5,\n",
       "                       random_state=42)</pre></div></div></div></div></div>"
      ],
      "text/plain": [
       "DecisionTreeClassifier(criterion='entropy', max_depth=3, max_leaf_nodes=5,\n",
       "                       random_state=42)"
      ]
     },
     "execution_count": 669,
     "metadata": {},
     "output_type": "execute_result"
    }
   ],
   "source": [
    "# construct decision tree\n",
    "tree = DecisionTreeClassifier(random_state=42)\n",
    "# tree.fit(adult_train_cat_X, adult_train_y)\n",
    "\n",
    "parameter_grid={\"criterion\":[\"entropy\"], \"max_depth\":[2, 3, 4], \n",
    "                \"max_features\":[\"sqrt\", None, \"log2\"], \n",
    "                \"max_leaf_nodes\":[3, 4, 5, 6, 7, 8, 9, 10, 11, 12]}\n",
    "tree_cv = GridSearchCV(tree, param_grid=parameter_grid, scoring='balanced_accuracy', n_jobs=2, cv=3, verbose=2)\n",
    "tree_cv.fit(adult_train_cat_X, adult_train_y)\n",
    "best_tree = tree_cv.best_estimator_\n",
    "best_tree"
   ]
  },
  {
   "cell_type": "code",
   "execution_count": 670,
   "id": "3b456301-f722-42b1-9653-c54fbfda211c",
   "metadata": {
    "tags": []
   },
   "outputs": [
    {
     "data": {
      "text/plain": [
       "<sklearn.metrics._plot.confusion_matrix.ConfusionMatrixDisplay at 0x133e9d8d0>"
      ]
     },
     "execution_count": 670,
     "metadata": {},
     "output_type": "execute_result"
    },
    {
     "data": {
      "image/png": "[encoded data removed]",
      "text/plain": [
       "<Figure size 640x480 with 2 Axes>"
      ]
     },
     "metadata": {},
     "output_type": "display_data"
    }
   ],
   "source": [
    "# confusion matrix / performance on testset\n",
    "y_pred = best_tree.predict(adult_test_cat_X)\n",
    "cm = confusion_matrix(adult_test_y, y_pred, labels=best_tree.classes_)\n",
    "disp = ConfusionMatrixDisplay(confusion_matrix=cm, display_labels=best_tree.classes_)\n",
    "disp.plot()"
   ]
  },
  {
   "cell_type": "code",
   "execution_count": 671,
   "id": "75f115b0-b9ec-4687-b8a6-c58b28dac34b",
   "metadata": {
    "tags": []
   },
   "outputs": [
    {
     "name": "stdout",
     "output_type": "stream",
     "text": [
      "Balanced accuracy on test set: 0.7265992577084126\n",
      "ROC-AUC score on test set: 0.7265992577084127\n"
     ]
    }
   ],
   "source": [
    "print(f\"Balanced accuracy on test set: {balanced_accuracy_score(adult_test_y, y_pred)}\")\n",
    "print(f\"ROC-AUC score on test set: {roc_auc_score(adult_test_y, y_pred)}\")"
   ]
  },
  {
   "cell_type": "code",
   "execution_count": 672,
   "id": "131be8f5-5d6b-44e9-a6e5-0190e42f3c26",
   "metadata": {
    "tags": []
   },
   "outputs": [
    {
     "name": "stdout",
     "output_type": "stream",
     "text": [
      "|--- marital-status_Married-civ-spouse <= 0.50\n",
      "|   |--- capital-gain <= 7073.50\n",
      "|   |   |--- class: 0\n",
      "|   |--- capital-gain >  7073.50\n",
      "|   |   |--- class: 1\n",
      "|--- marital-status_Married-civ-spouse >  0.50\n",
      "|   |--- education-num <= 12.50\n",
      "|   |   |--- capital-gain <= 5095.50\n",
      "|   |   |   |--- class: 0\n",
      "|   |   |--- capital-gain >  5095.50\n",
      "|   |   |   |--- class: 1\n",
      "|   |--- education-num >  12.50\n",
      "|   |   |--- class: 1\n",
      "\n"
     ]
    }
   ],
   "source": [
    "column_names = [name for name in adult_train_cat_X.columns]\n",
    "print(export_text(best_tree, feature_names=column_names))"
   ]
  },
  {
   "cell_type": "code",
   "execution_count": 673,
   "id": "aea210a2-1a78-4f78-bdba-1c4340057189",
   "metadata": {
    "tags": []
   },
   "outputs": [
    {
     "data": {
      "image/png": "[encoded data removed]",
      "text/plain": [
       "<Figure size 640x480 with 1 Axes>"
      ]
     },
     "metadata": {},
     "output_type": "display_data"
    },
    {
     "data": {
      "text/plain": [
       "<Figure size 3840x2880 with 0 Axes>"
      ]
     },
     "metadata": {},
     "output_type": "display_data"
    }
   ],
   "source": [
    "plot_tree(best_tree, feature_names=adult_train_cat_X.columns, filled=True)\n",
    "plt.figure(dpi=600)\n",
    "plt.show()"
   ]
  },
  {
   "cell_type": "code",
   "execution_count": 674,
   "id": "8acf9edf-4126-45bf-a5fc-5e672e98fd14",
   "metadata": {
    "tags": []
   },
   "outputs": [],
   "source": [
    "n_nodes = best_tree.tree_.node_count\n",
    "children_left = best_tree.tree_.children_left\n",
    "children_right = best_tree.tree_.children_right\n",
    "feature = best_tree.tree_.feature\n",
    "threshold = best_tree.tree_.threshold"
   ]
  },
  {
   "cell_type": "code",
   "execution_count": 675,
   "id": "e97be4fb-6ae8-4e72-8271-6d6b4497c636",
   "metadata": {
    "tags": []
   },
   "outputs": [],
   "source": [
    "# taken from: https://stackoverflow.com/questions/56334210/how-to-extract-sklearn-decision-tree-rules-to-pandas-boolean-conditions\n",
    "\n",
    "def find_path(node_numb, path, x):\n",
    "    path.append(node_numb)\n",
    "    if node_numb == x:\n",
    "        return True\n",
    "    left = False\n",
    "    right = False\n",
    "    if (children_left[node_numb] !=-1):\n",
    "        left = find_path(children_left[node_numb], path, x)\n",
    "    if (children_right[node_numb] !=-1):\n",
    "        right = find_path(children_right[node_numb], path, x)\n",
    "    if left or right :\n",
    "        return True\n",
    "    path.remove(node_numb)\n",
    "    return False\n",
    "\n",
    "\n",
    "def get_rule(df_name, path, column_names):\n",
    "    mask = ''\n",
    "    for index, node in enumerate(path):\n",
    "        #We check if we are not in the leaf\n",
    "        if index!=len(path)-1:\n",
    "            # Do we go under or over the threshold ?\n",
    "            if (children_left[node] == path[index+1]):\n",
    "                mask += f\"{df_name}['{column_names[feature[node]]}']<= {threshold[node]} \\t \"\n",
    "            else:\n",
    "                mask += f\"{df_name}['{column_names[feature[node]]}']> {threshold[node]} \\t \"\n",
    "    # We insert the & at the right places\n",
    "    mask = mask.replace(\"\\t\", \"&\", mask.count(\"\\t\") - 1)\n",
    "    mask = mask.replace(\"\\t\", \"\")\n",
    "    return mask"
   ]
  },
  {
   "cell_type": "code",
   "execution_count": 677,
   "id": "e240e928-214a-4994-9fa4-88f6c53d75c2",
   "metadata": {
    "tags": []
   },
   "outputs": [
    {
     "data": {
      "text/plain": [
       "{4: \"adult_train_cat_X['marital-status_Married-civ-spouse']> 0.5 & adult_train_cat_X['education-num']> 12.5  \",\n",
       " 5: \"adult_train_cat_X['marital-status_Married-civ-spouse']<= 0.5 & adult_train_cat_X['capital-gain']<= 7073.5  \",\n",
       " 6: \"adult_train_cat_X['marital-status_Married-civ-spouse']<= 0.5 & adult_train_cat_X['capital-gain']> 7073.5  \",\n",
       " 7: \"adult_train_cat_X['marital-status_Married-civ-spouse']> 0.5 & adult_train_cat_X['education-num']<= 12.5 & adult_train_cat_X['capital-gain']<= 5095.5  \",\n",
       " 8: \"adult_train_cat_X['marital-status_Married-civ-spouse']> 0.5 & adult_train_cat_X['education-num']<= 12.5 & adult_train_cat_X['capital-gain']> 5095.5  \"}"
      ]
     },
     "execution_count": 677,
     "metadata": {},
     "output_type": "execute_result"
    }
   ],
   "source": [
    "# Leaves\n",
    "leave_id = best_tree.apply(adult_test_cat_X)\n",
    "\n",
    "paths = {}\n",
    "for leaf in np.unique(leave_id):\n",
    "    path_leaf = []\n",
    "    find_path(0, path_leaf, leaf)\n",
    "    paths[leaf] = np.unique(np.sort(path_leaf))\n",
    "\n",
    "rules = {}\n",
    "for key in paths:\n",
    "    rules[key] = get_rule(\"adult_train_cat_X\", paths[key], column_names)\n",
    "    \n",
    "rules"
   ]
  },
  {
   "cell_type": "code",
   "execution_count": 771,
   "id": "94b8eb9b-6622-4a7d-b9db-f9ef3761878c",
   "metadata": {
    "tags": []
   },
   "outputs": [
    {
     "data": {
      "text/plain": [
       "3955"
      ]
     },
     "execution_count": 771,
     "metadata": {},
     "output_type": "execute_result"
    }
   ],
   "source": [
    "def positive_rules(rules):\n",
    "    \"\"\"From the extracted rules, return those that have a favorable classification\"\"\"\n",
    "    \n",
    "    # positive rules are those that end in > X\n",
    "    return [rules[rule] for rule in rules if '>' in rules[rule].split('&')[-1]]\n",
    "\n",
    "\n",
    "def oracle(df, sens_df, rule, s_i, mechanism=None, epsilon=0.05, delta=0):\n",
    "    \"\"\"Returns some (differentially privatised) statistics on the sensitive attribute for the specified dataframe and rule\"\"\"\n",
    "    \n",
    "    no_mechanism = sens_df[df[pd.eval(rule)].index].value_counts(sort=False)[s_i]\n",
    "    \n",
    "    if mechanism == \"laplacian\":\n",
    "        # this is a histogram query so the l1-sensitivity = 1 as per Dwork & Roth \n",
    "        sensitivity = 1\n",
    "        return no_mechanism + np.random.laplace(loc=0, scale=sensitivity / epsilon)\n",
    "    \n",
    "    elif mechanism == \"gaussian\":\n",
    "        if delta <= 0 or delta > 1 or epsilon <= 0 or epsilon > 1:\n",
    "            raise ValueError(\"The value of delta should be in (0,1] when using the gaussian mechanism\")\n",
    "            \n",
    "        # this is a histogram query so the l2-sensitivity = 2 as per Dwork & Roth\n",
    "        sensitivity = 2\n",
    "        return no_mechanism + np.random.normal(loc=0, scale=2 * sensitivity**2 * np.log(1.25 / delta) / epsilon**2)\n",
    "    \n",
    "    elif mechanism == \"exponential\":\n",
    "        # this query can only change by 1 if an instance is omitted so l1-sensitivity = 1\n",
    "        sensitivity = 1\n",
    "        \n",
    "        # np.arange is [start, stop) so + 1 for entire possible range\n",
    "        possible_values = np.arange(0, sum(sens_df[df[pd.eval(rule)].index].value_counts()) + 1)\n",
    "        \n",
    "        # the utility is higher when the value is closer to the actual value\n",
    "        utility_scores = np.array([no_mechanism - abs(no_mechanism - value) for value in possible_values])\n",
    "        probabilities = [np.exp(epsilon * score / (2 * sensitivity)) for score in utility_scores]\n",
    "        \n",
    "        # normalize probabilties to sum to 1\n",
    "        probabilities = probabilities / np.linalg.norm(probabilities, ord=1)\n",
    "        return np.random.choice(possible_values, p=probabilities)\n",
    "\n",
    "    return no_mechanism\n",
    "\n",
    "oracle(adult_train_cat_X, adult_train_sex, rules[4], \"Male\", \"exponential\", epsilon=0.05, delta=0.1)"
   ]
  },
  {
   "cell_type": "code",
   "execution_count": 759,
   "id": "2a58d78a-c5e9-4876-b92c-77c357c06a99",
   "metadata": {
    "tags": []
   },
   "outputs": [
    {
     "name": "stderr",
     "output_type": "stream",
     "text": [
      "/var/folders/d6/97vsb8ys2xsd5zzsdl4ndt6c0000gn/T/ipykernel_49552/752380357.py:35: RuntimeWarning: overflow encountered in exp\n",
      "  probabilities = [np.exp(epsilon * score / (2 * sensitivity)) for score in utility_scores]\n",
      "/Users/florianvandersteen/miniconda3/envs/experiments/lib/python3.11/site-packages/numpy/linalg/linalg.py:2538: RuntimeWarning: overflow encountered in reduce\n",
      "  return add.reduce(abs(x), axis=axis, keepdims=keepdims)\n",
      "/var/folders/d6/97vsb8ys2xsd5zzsdl4ndt6c0000gn/T/ipykernel_49552/752380357.py:38: RuntimeWarning: invalid value encountered in divide\n",
      "  probabilities = probabilities / np.linalg.norm(probabilities, ord=1)\n"
     ]
    },
    {
     "ename": "ValueError",
     "evalue": "probabilities contain NaN",
     "output_type": "error",
     "traceback": [
      "\u001b[0;31m---------------------------------------------------------------------------\u001b[0m",
      "\u001b[0;31mValueError\u001b[0m                                Traceback (most recent call last)",
      "Cell \u001b[0;32mIn[759], line 47\u001b[0m\n\u001b[1;32m     42\u001b[0m             errors[row, col] \u001b[38;5;241m=\u001b[39m \u001b[38;5;28mabs\u001b[39m(estimate_sp(pos_rules, dataset, sens_dataset, S, mechanism, epsilon, delta) \u001b[38;5;241m-\u001b[39m actual_sp)\n\u001b[1;32m     44\u001b[0m     \u001b[38;5;28;01mreturn\u001b[39;00m errors\n\u001b[0;32m---> 47\u001b[0m sp_errors \u001b[38;5;241m=\u001b[39m \u001b[43mexperiment\u001b[49m\u001b[43m(\u001b[49m\u001b[43mrules\u001b[49m\u001b[43m,\u001b[49m\u001b[43m \u001b[49m\u001b[43mbest_tree\u001b[49m\u001b[38;5;241;43m.\u001b[39;49m\u001b[43mpredict\u001b[49m\u001b[43m(\u001b[49m\u001b[43madult_train_cat_X\u001b[49m\u001b[43m)\u001b[49m\u001b[43m,\u001b[49m\u001b[43m \u001b[49m\u001b[43madult_train_cat_X\u001b[49m\u001b[43m,\u001b[49m\u001b[43m \u001b[49m\u001b[43madult_train_sex\u001b[49m\u001b[43m,\u001b[49m\u001b[43m \u001b[49m\u001b[43mepsilon\u001b[49m\u001b[38;5;241;43m=\u001b[39;49m\u001b[38;5;241;43m0.4\u001b[39;49m\u001b[43m)\u001b[49m\n\u001b[1;32m     48\u001b[0m avg_errs \u001b[38;5;241m=\u001b[39m np\u001b[38;5;241m.\u001b[39mmean(sp_errors, axis\u001b[38;5;241m=\u001b[39m\u001b[38;5;241m0\u001b[39m)\n\u001b[1;32m     49\u001b[0m std_errs \u001b[38;5;241m=\u001b[39m np\u001b[38;5;241m.\u001b[39mstd(sp_errors, ddof\u001b[38;5;241m=\u001b[39m\u001b[38;5;241m1\u001b[39m, axis\u001b[38;5;241m=\u001b[39m\u001b[38;5;241m0\u001b[39m)\n",
      "Cell \u001b[0;32mIn[759], line 42\u001b[0m, in \u001b[0;36mexperiment\u001b[0;34m(ruleset, rule_pred, dataset, sens_dataset, epsilon, delta, mechanisms, runs)\u001b[0m\n\u001b[1;32m     40\u001b[0m \u001b[38;5;28;01mfor\u001b[39;00m row \u001b[38;5;129;01min\u001b[39;00m \u001b[38;5;28mrange\u001b[39m(runs):\n\u001b[1;32m     41\u001b[0m     \u001b[38;5;28;01mfor\u001b[39;00m col, mechanism \u001b[38;5;129;01min\u001b[39;00m \u001b[38;5;28menumerate\u001b[39m(mechanisms):\n\u001b[0;32m---> 42\u001b[0m         errors[row, col] \u001b[38;5;241m=\u001b[39m \u001b[38;5;28mabs\u001b[39m(\u001b[43mestimate_sp\u001b[49m\u001b[43m(\u001b[49m\u001b[43mpos_rules\u001b[49m\u001b[43m,\u001b[49m\u001b[43m \u001b[49m\u001b[43mdataset\u001b[49m\u001b[43m,\u001b[49m\u001b[43m \u001b[49m\u001b[43msens_dataset\u001b[49m\u001b[43m,\u001b[49m\u001b[43m \u001b[49m\u001b[43mS\u001b[49m\u001b[43m,\u001b[49m\u001b[43m \u001b[49m\u001b[43mmechanism\u001b[49m\u001b[43m,\u001b[49m\u001b[43m \u001b[49m\u001b[43mepsilon\u001b[49m\u001b[43m,\u001b[49m\u001b[43m \u001b[49m\u001b[43mdelta\u001b[49m\u001b[43m)\u001b[49m \u001b[38;5;241m-\u001b[39m actual_sp)\n\u001b[1;32m     44\u001b[0m \u001b[38;5;28;01mreturn\u001b[39;00m errors\n",
      "Cell \u001b[0;32mIn[759], line 23\u001b[0m, in \u001b[0;36mestimate_sp\u001b[0;34m(pos_ruleset, dataset, sens_dataset, S, mechanism, epsilon, delta)\u001b[0m\n\u001b[1;32m     21\u001b[0m \u001b[38;5;66;03m# because the queries are disjoint, epsilon remains equal across queries\u001b[39;00m\n\u001b[1;32m     22\u001b[0m \u001b[38;5;28;01mfor\u001b[39;00m i, s_i \u001b[38;5;129;01min\u001b[39;00m \u001b[38;5;28menumerate\u001b[39m(S[:\u001b[38;5;241m-\u001b[39m\u001b[38;5;241m1\u001b[39m]):\n\u001b[0;32m---> 23\u001b[0m     rule_counts[i] \u001b[38;5;241m+\u001b[39m\u001b[38;5;241m=\u001b[39m \u001b[38;5;28mround\u001b[39m(\u001b[43moracle\u001b[49m\u001b[43m(\u001b[49m\u001b[43mdataset\u001b[49m\u001b[43m,\u001b[49m\u001b[43m \u001b[49m\u001b[43msens_dataset\u001b[49m\u001b[43m,\u001b[49m\u001b[43m \u001b[49m\u001b[43mrule\u001b[49m\u001b[43m,\u001b[49m\u001b[43m \u001b[49m\u001b[43ms_i\u001b[49m\u001b[43m,\u001b[49m\u001b[43m \u001b[49m\u001b[43mmechanism\u001b[49m\u001b[43m,\u001b[49m\u001b[43m \u001b[49m\u001b[43mepsilon\u001b[49m\u001b[43m,\u001b[49m\u001b[43m \u001b[49m\u001b[43mdelta\u001b[49m\u001b[43m)\u001b[49m)\n\u001b[1;32m     25\u001b[0m rule_counts[\u001b[38;5;241m-\u001b[39m\u001b[38;5;241m1\u001b[39m] \u001b[38;5;241m+\u001b[39m\u001b[38;5;241m=\u001b[39m rule_total \u001b[38;5;241m-\u001b[39m np\u001b[38;5;241m.\u001b[39msum(rule_counts[:\u001b[38;5;241m-\u001b[39m\u001b[38;5;241m1\u001b[39m])\n\u001b[1;32m     26\u001b[0m counts_per_si \u001b[38;5;241m+\u001b[39m\u001b[38;5;241m=\u001b[39m rule_counts\n",
      "Cell \u001b[0;32mIn[680], line 39\u001b[0m, in \u001b[0;36moracle\u001b[0;34m(df, sens_df, rule, s_i, mechanism, epsilon, delta)\u001b[0m\n\u001b[1;32m     37\u001b[0m     \u001b[38;5;66;03m# normalize probabilties to sum to 1\u001b[39;00m\n\u001b[1;32m     38\u001b[0m     probabilities \u001b[38;5;241m=\u001b[39m probabilities \u001b[38;5;241m/\u001b[39m np\u001b[38;5;241m.\u001b[39mlinalg\u001b[38;5;241m.\u001b[39mnorm(probabilities, \u001b[38;5;28mord\u001b[39m\u001b[38;5;241m=\u001b[39m\u001b[38;5;241m1\u001b[39m)\n\u001b[0;32m---> 39\u001b[0m     \u001b[38;5;28;01mreturn\u001b[39;00m \u001b[43mnp\u001b[49m\u001b[38;5;241;43m.\u001b[39;49m\u001b[43mrandom\u001b[49m\u001b[38;5;241;43m.\u001b[39;49m\u001b[43mchoice\u001b[49m\u001b[43m(\u001b[49m\u001b[43mpossible_values\u001b[49m\u001b[43m,\u001b[49m\u001b[43m \u001b[49m\u001b[43mp\u001b[49m\u001b[38;5;241;43m=\u001b[39;49m\u001b[43mprobabilities\u001b[49m\u001b[43m)\u001b[49m\n\u001b[1;32m     41\u001b[0m \u001b[38;5;28;01mreturn\u001b[39;00m no_mechanism\n",
      "File \u001b[0;32mmtrand.pyx:954\u001b[0m, in \u001b[0;36mnumpy.random.mtrand.RandomState.choice\u001b[0;34m()\u001b[0m\n",
      "\u001b[0;31mValueError\u001b[0m: probabilities contain NaN"
     ]
    }
   ],
   "source": [
    "def statistical_parity(y_pred, df_sens):\n",
    "    accept_rates = []\n",
    "    \n",
    "    for sens_attr in df_sens.unique():\n",
    "        accept_rates.append(sum((df_sens == sens_attr) & y_pred) / sum(df_sens == sens_attr))\n",
    "        \n",
    "    return min(accept_rates) / max(accept_rates)\n",
    "\n",
    "\n",
    "def estimate_sp(pos_ruleset, dataset, sens_dataset, S, mechanism, epsilon, delta):\n",
    "    \"\"\"Returns the Statistical Parity of a privacy mechanism for a tree\"\"\"\n",
    "    counts_per_si = np.zeros(len(S))\n",
    "    total_per_si = sens_dataset.value_counts(sort=False).to_numpy()\n",
    "    total = 0\n",
    "    \n",
    "    # we can calculate the last count ourselves so we iterate one less\n",
    "    for rule in pos_ruleset:\n",
    "        rule_counts = np.zeros(len(S))\n",
    "        rule_total = len(sens_dataset[pd.eval(rule)])\n",
    "        \n",
    "        # because the queries are disjoint, epsilon remains equal across queries\n",
    "        for i, s_i in enumerate(S[:-1]):\n",
    "            rule_counts[i] += round(oracle(dataset, sens_dataset, rule, s_i, mechanism, epsilon, delta))\n",
    "            \n",
    "        rule_counts[-1] += rule_total - np.sum(rule_counts[:-1])\n",
    "        counts_per_si += rule_counts\n",
    "    \n",
    "    return np.min(counts_per_si / total_per_si) / np.max(counts_per_si / total_per_si)\n",
    "\n",
    "\n",
    "def experiment(ruleset, rule_pred, dataset, sens_dataset, epsilon, \n",
    "               delta=0.0001, mechanisms=[\"exponential\", \"gaussian\", \"laplacian\"], runs=50):\n",
    "    \"\"\"Compares average Statistical Parity Error for different mechanisms\"\"\"\n",
    "    \n",
    "    pos_rules = positive_rules(ruleset)\n",
    "    actual_sp = statistical_parity(rule_pred, sens_dataset)\n",
    "    errors = np.zeros((runs, len(mechanisms)))\n",
    "    S = sens_dataset.value_counts(sort=False).index\n",
    "    \n",
    "    for row in range(runs):\n",
    "        for col, mechanism in enumerate(mechanisms):\n",
    "            errors[row, col] = abs(estimate_sp(pos_rules, dataset, sens_dataset, S, mechanism, epsilon, delta) - actual_sp)\n",
    "            \n",
    "    return errors\n",
    "\n",
    "\n",
    "sp_errors = experiment(rules, best_tree.predict(adult_train_cat_X), adult_train_cat_X, adult_train_sex, epsilon=0.4)\n",
    "avg_errs = np.mean(sp_errors, axis=0)\n",
    "std_errs = np.std(sp_errors, ddof=1, axis=0)"
   ]
  },
  {
   "cell_type": "code",
   "execution_count": 757,
   "id": "186002f3-d9f1-41e1-a282-ebac5b66e6ec",
   "metadata": {
    "tags": []
   },
   "outputs": [
    {
     "data": {
      "image/png": "[encoded data removed]",
      "text/plain": [
       "<Figure size 640x480 with 1 Axes>"
      ]
     },
     "metadata": {},
     "output_type": "display_data"
    }
   ],
   "source": [
    "uncertainty = std_errs / np.sqrt(len(sp_errors[:,1]))\n",
    "\n",
    "plt.bar([0,1], [avg_errs[0], avg_errs[2]], tick_label=[\"Exponential\", \"Laplacian\"], yerr=[uncertainty[0], uncertainty[2]])\n",
    "plt.title(\"Mean SP error for $\\epsilon$=0.2\")\n",
    "plt.ylabel(\"Average Statistical Parity Error\")\n",
    "plt.show()"
   ]
  },
  {
   "cell_type": "code",
   "execution_count": 758,
   "id": "dffb6d51-0c0c-4d8d-9fe8-eb969adec567",
   "metadata": {
    "tags": []
   },
   "outputs": [
    {
     "data": {
      "text/plain": [
       "Ttest_indResult(statistic=5.144735411440702, pvalue=6.88210862877214e-07)"
      ]
     },
     "execution_count": 758,
     "metadata": {},
     "output_type": "execute_result"
    }
   ],
   "source": [
    "ttest_ind(sp_errors[:,0], sp_errors[:,2], alternative='greater')"
   ]
  },
  {
   "cell_type": "code",
   "execution_count": 767,
   "id": "3072f93d-2268-416d-916d-48b7dbc00c1d",
   "metadata": {
    "tags": []
   },
   "outputs": [
    {
     "name": "stderr",
     "output_type": "stream",
     "text": [
      "/var/folders/d6/97vsb8ys2xsd5zzsdl4ndt6c0000gn/T/ipykernel_49552/925365052.py:1: RuntimeWarning: overflow encountered in exp\n",
      "  np.exp(0.4 * 10002542 / (2 * 1))\n"
     ]
    },
    {
     "data": {
      "text/plain": [
       "inf"
      ]
     },
     "execution_count": 767,
     "metadata": {},
     "output_type": "execute_result"
    }
   ],
   "source": [
    "np.exp(0.4 * 10002542 / (2 * 1))"
   ]
  },
  {
   "cell_type": "code",
   "execution_count": null,
   "id": "85c44930-d091-49e9-884c-192ffe98102d",
   "metadata": {},
   "outputs": [],
   "source": []
  }
 ],
 "metadata": {
  "kernelspec": {
   "display_name": "Python 3 (ipykernel)",
   "language": "python",
   "name": "python3"
  },
  "language_info": {
   "codemirror_mode": {
    "name": "ipython",
    "version": 3
   },
   "file_extension": ".py",
   "mimetype": "text/x-python",
   "name": "python",
   "nbconvert_exporter": "python",
   "pygments_lexer": "ipython3",
   "version": "3.11.0"
  }
 },
 "nbformat": 4,
 "nbformat_minor": 5
}
